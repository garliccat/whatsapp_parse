{
 "cells": [
  {
   "cell_type": "markdown",
   "metadata": {},
   "source": [
    "## Парсер и анализатор чатов WhatsApp\n",
    "### Данные предоставляются через экспорт чата в меню приложения.\n",
    "По основному своему функционалу этот код предназначен для анализа чатов-групп с 3 и более участниками. Будет работать и с обычными переписками из двух человек, но тогда некоторые аспекты просто теряют свою необходимость (типа коэффициентов корреляции между участниками).\n",
    "Помогает узнать как очевидные вещи, так и вполне неожиданные.\n",
    "Анализирует текст на наличие матерных слов и считает статистику использования мата. Что характерно, по причине того, что поиск идёт по корневым словам, то даже в самых невинных чатах можно найти мат (типа застраХУЙ или МАНДАрин).\n",
    "Датасет можно получить из приложения в меню чата:\n",
    "\n",
    "1. Три точечки в верхнем-правом углу\n",
    "![](images/1.png)\n",
    "\n",
    "2. Раздел More (в Руссокой локали \"Ещё\")\n",
    "![](images/2.png)\n",
    "\n",
    "3. Выбрать \"Export chat\" (Экспорт чата\")\n",
    "![](images/3.png)\n",
    "\n",
    "4. Экспортировать чат без мультимедиа. Нам не нужны картинки с котятами и фотографии майонеза.\n",
    "![](images/4.png)\n",
    "\n",
    "Начнём с импорта библиотек и открытие/чтения файлов.\n",
    "\n",
    "swears.txt - словарь матерных слов.\n",
    "\n",
    "так-же задаём кое-какие глобальные переменные:\n",
    "'''swears_dict''' - сюда будем собирать матерный лексикон со всего чата, во что горазды авторы\n",
    "'''words_dict''' - сюда будем собирать общий словарный запас всего чата.\n",
    "все словари с счётчиками использования данного слова в качестве значения ключа - слова.\n",
    "\n",
    "'''plt.style.use('ggplot')''' - красивое оформление для графиков :+1:"
   ]
  },
  {
   "cell_type": "code",
   "execution_count": 1,
   "metadata": {},
   "outputs": [],
   "source": [
    "%matplotlib inline\n",
    "\n",
    "import matplotlib.pyplot as plt\n",
    "from datetime import datetime as dt\n",
    "import numpy as np\n",
    "import pandas as pd\n",
    "import re\n",
    "import glob\n",
    "\n",
    "### opening swears dictionary and log dataset\n",
    "swears = open('dataset/swears.txt', 'r', encoding=\"utf-8\")\n",
    "swears = swears.read()\n",
    "swears = swears.split('\\n')\n",
    "\n",
    "f = open(glob.glob('dataset/*WhatsApp*.txt')[0], 'r', encoding=\"utf-8\")\n",
    "f = f.read()\n",
    "f = f.replace('\\n', ' ')\n",
    "\n",
    "### initializing global variables\n",
    "swears_dict = {}\n",
    "words_dict = {}\n",
    "plt.style.use('ggplot')\n"
   ]
  },
  {
   "cell_type": "markdown",
   "metadata": {},
   "source": [
    "Потом задаём несколько функций, который помогут в дальнем векторном агрегировании данных масива.\n",
    "Счётчик слов\n",
    "Счётчик только матерных слов\n",
    "Сборщик библиотеки мата\n",
    "Сборщик общего словарного запаса"
   ]
  },
  {
   "cell_type": "code",
   "execution_count": 2,
   "metadata": {},
   "outputs": [],
   "source": [
    "def words_count(string):\n",
    "\t### function returns the number of words in string\n",
    "\tif (string[0] != '<' and string[-1] != '>'):\n",
    "\t\treturn len(string.split())\n",
    "\n",
    "def swear_count(string):\n",
    "\t### function returns the number of swear words found in input string\n",
    "\tstring = string.lower()\n",
    "\tcount = 0\n",
    "\tfor word in swears:\n",
    "\t\tcount += string.count(word)\t\t\n",
    "\treturn count\n",
    "\n",
    "def swears_collect(string):\n",
    "\t### function for adding swear words to global swear_dict dictionary from input string\n",
    "\tstring = string.lower().split()\n",
    "\tfor word in string:\n",
    "\t\tfor swear in swears:\n",
    "\t\t\tif swear in word:\n",
    "\t\t\t\tif word in swears_dict:\n",
    "\t\t\t\t\tswears_dict[word] += 1\n",
    "\t\t\t\telse:\n",
    "\t\t\t\t\tswears_dict[word] = 1\n",
    "\t\n",
    "def to_dict(string):\n",
    "\t### fucntion for adding all words from input string to global words_dict dictionary\n",
    "\tstring = string.lower()\n",
    "\tif (string[0] != '<' and string[-1] != '>'):\n",
    "\t\tstring = string.split()\n",
    "\t\tfor word in string:\t\n",
    "\t\t\tif (word in words_dict and len(word) > 3):\n",
    "\t\t\t\twords_dict[word] += 1\n",
    "\t\t\telse:\n",
    "\t\t\t\twords_dict[word] = 1"
   ]
  },
  {
   "cell_type": "markdown",
   "metadata": {},
   "source": [
    "Прогоняем наш файл с чатом через парсер. Регулярным выражением выуживаем паттерны сообщений со структурой даты/автора/текста.\n",
    "Пропускаем сервисные сообщения.\n",
    "Печатем первые 5 строк датасета."
   ]
  },
  {
   "cell_type": "code",
   "execution_count": 3,
   "metadata": {},
   "outputs": [
    {
     "name": "stdout",
     "output_type": "stream",
     "text": [
      "                             author      text\n",
      "timestamp                                    \n",
      "2018-12-31 14:06:00  Миша Колобегов     Давай\n",
      "2018-12-31 14:06:00    Anton Petkov  Ох ебать\n",
      "2018-12-31 14:06:00    Anton Petkov   Здарова\n",
      "2018-12-31 14:06:00  Миша Колобегов     Антик\n",
      "2018-12-31 14:06:00   Леха Харченко   Здарова\n"
     ]
    }
   ],
   "source": [
    "##### Parcing the raw dataset, cleaning it.\n",
    "pattern = re.compile(r'(?P<timestamp>\\d\\d.\\d\\d.\\d\\d\\d\\d, \\d\\d:\\d\\d) - (?!\\u200e)(?P<author>.*?): (?P<text>.*?)(?=( \\d\\d.\\d\\d.\\d\\d\\d\\d, \\d\\d:\\d\\d| $))')\n",
    "match = re.findall(pattern, f)\n",
    "\n",
    "df = pd.DataFrame.from_dict(match)\n",
    "df = df.iloc[1:, 0:3]\n",
    "df.columns=['timestamp', 'author', 'text']\n",
    "df['timestamp'] = pd.to_datetime(df['timestamp'], format='%d.%m.%Y, %H:%M')\n",
    "df.set_index('timestamp', inplace=True)\n",
    "\n",
    "print(df.head())"
   ]
  },
  {
   "cell_type": "markdown",
   "metadata": {},
   "source": [
    "Добавляем вспомогательные колонки. Добовляем не без помощи заранее прописаных функций.\n",
    "swears_num - колтчество матерных слов в сообщении\n",
    "words_num - количество слов в сообщении\n",
    "media - тип сообщения (медиа или текст)\n",
    "hour - час в течении которого было оставлено сообщение"
   ]
  },
  {
   "cell_type": "code",
   "execution_count": 4,
   "metadata": {},
   "outputs": [],
   "source": [
    "#### ADDING COLUMNS\n",
    "\n",
    "### adding column with swears number in each message\n",
    "df['swears_num'] = df['text'].map(swear_count)\n",
    "# df.sort_values('swears_num', inplace=True)\n",
    "\n",
    "### adding column with all words in message number\n",
    "df['words_num'] = df['text'].map(words_count)\n",
    "\n",
    "### adding column with boolean whether the message is just a meme or video\n",
    "df['media'] = df['text'].map(lambda x: 'Media' if (x[0] == '<' and x[-1] == '>') else 'Text')\n",
    "\n",
    "### adding 'hour' column for further grouping\n",
    "df['hour'] = df.index.hour"
   ]
  },
  {
   "cell_type": "markdown",
   "metadata": {},
   "source": [
    "Общее число сообщений:"
   ]
  },
  {
   "cell_type": "code",
   "execution_count": 5,
   "metadata": {},
   "outputs": [
    {
     "name": "stdout",
     "output_type": "stream",
     "text": [
      "Overall number of messages: 7538\n"
     ]
    }
   ],
   "source": [
    "### printing the number of messages\n",
    "authors_num = df.shape[0]\n",
    "print('Overall number of messages: {}'.format(authors_num))"
   ]
  },
  {
   "cell_type": "markdown",
   "metadata": {},
   "source": [
    "Количество и список участников (тут везде \"авторов\") чата:"
   ]
  },
  {
   "cell_type": "code",
   "execution_count": 8,
   "metadata": {},
   "outputs": [
    {
     "name": "stdout",
     "output_type": "stream",
     "text": [
      "There are 8 authors in chat: \n",
      "['Миша Колобегов', 'Anton Petkov', 'Леха Харченко', 'Витек', 'Сева Баянович', 'Эдик Лыскунов', 'Стас Джулай', '+7 904 344-74-40']\n"
     ]
    }
   ],
   "source": [
    "### building the list of authors, printing it\n",
    "authors = df['author'].unique().tolist()\n",
    "print('There are {} authors in chat: \\n{}'.format(len(authors), authors))"
   ]
  },
  {
   "cell_type": "markdown",
   "metadata": {},
   "source": [
    "Дата самого первого сообщения (создание чата), последнего сообщения, возраст чата:"
   ]
  },
  {
   "cell_type": "code",
   "execution_count": 9,
   "metadata": {},
   "outputs": [
    {
     "name": "stdout",
     "output_type": "stream",
     "text": [
      "First message date: 2018-12-31 14:06:00\n",
      "Last message date: 2019-09-29 19:03:00\n",
      "Chat age in days: 272\n",
      "Chat age in years: 0.75\n"
     ]
    }
   ],
   "source": [
    "### printing first message, last message, chat age\n",
    "print('First message date: {}'.format(min(df.index)))\n",
    "print('Last message date: {}'.format(max(df.index)))\n",
    "days = int((max(df.index) - min(df.index)).days)\n",
    "print('Chat age in days: {}\\nChat age in years: {:.2f}'.format(days, days / 365))\n",
    "avg_msg_hour = df.groupby('hour').count()['text'] / days"
   ]
  },
  {
   "cell_type": "markdown",
   "metadata": {},
   "source": [
    "Составляем словари слов и матерных слов:"
   ]
  },
  {
   "cell_type": "code",
   "execution_count": 10,
   "metadata": {},
   "outputs": [],
   "source": [
    "### buildig a dict (words_dict) with words from chat (text column). Not adding a column, but collecting data\n",
    "df['text'].map(to_dict)\n",
    "words_dict = sorted(words_dict.items(), key=lambda x: x[1], reverse=True)\n",
    "\n",
    "### building a dict of swears usage (swears_dict) from words_dict. Not adding a column, but collecting data\n",
    "df['text'].map(swears_collect)\n",
    "swears_dict = sorted(swears_dict.items(), key=lambda x: x[1], reverse=True)"
   ]
  },
  {
   "cell_type": "markdown",
   "metadata": {},
   "source": [
    "Плодим ещё один фрейм (точнее Series) (что конечно зря, ну да ладно) с количеством сообщений в неделю за весь период чата:"
   ]
  },
  {
   "cell_type": "code",
   "execution_count": 12,
   "metadata": {},
   "outputs": [],
   "source": [
    "### calculating weekly messages number for alltime\n",
    "msg_weekly = df.resample('W').count()['text']"
   ]
  },
  {
   "cell_type": "markdown",
   "metadata": {},
   "source": [
    "Рассчитываем процент мата у каждого участника чата:\n",
    "Первый фрейм со столбцами \"Общее кол-во слов\" - \"Из них мата\"\n",
    "Второй топ по процентным соотношениям, самые матершинники вверху."
   ]
  },
  {
   "cell_type": "code",
   "execution_count": 13,
   "metadata": {},
   "outputs": [
    {
     "name": "stdout",
     "output_type": "stream",
     "text": [
      "                  words_num  swears_num\n",
      "author                                 \n",
      "+7 904 344-74-40       27.0           0\n",
      "Anton Petkov         4467.0         133\n",
      "Витек                8115.0         224\n",
      "Леха Харченко        1049.0          34\n",
      "Миша Колобегов       6216.0          45\n",
      "\n",
      "Words vs. swears percent per author:\n",
      "author\n",
      "Леха Харченко    3.241182\n",
      "Anton Petkov     2.977390\n",
      "Витек            2.760320\n",
      "Сева Баянович    1.831502\n",
      "Эдик Лыскунов    0.776119\n",
      "Name: percent, dtype: float64\n"
     ]
    }
   ],
   "source": [
    "### calculating swear words usage for each author\n",
    "words_swears_users = df.groupby('author').sum()[['words_num', 'swears_num']]\n",
    "print(words_swears_users.head())\n",
    "words_swears_users['percent'] = (words_swears_users['swears_num'] / words_swears_users['words_num']) * 100\n",
    "words_swears_users = words_swears_users.sort_values(by='percent', ascending=False)\n",
    "print('\\nWords vs. swears percent per author:')\n",
    "print(words_swears_users['percent'].head())"
   ]
  },
  {
   "cell_type": "markdown",
   "metadata": {},
   "source": [
    "Рассчёт матрицы корреляций Пирсона для каждого участника автора, с дальнейшей сортировкой наивысших коэффициентов наверх:\n",
    "В данном случае коэффициент - по сути вероятность того, что участники общаются между собой, чем между другими участниками."
   ]
  },
  {
   "cell_type": "code",
   "execution_count": 14,
   "metadata": {},
   "outputs": [
    {
     "name": "stdout",
     "output_type": "stream",
     "text": [
      "\n",
      "\n",
      "Top authors with messages timing correlation:\n",
      "author          author        \n",
      "Миша Колобегов  Витек             0.840906\n",
      "Anton Petkov    Эдик Лыскунов     0.828766\n",
      "Витек           Леха Харченко     0.807938\n",
      "Леха Харченко   Миша Колобегов    0.772735\n",
      "Сева Баянович   Леха Харченко     0.731589\n",
      "dtype: float64\n"
     ]
    }
   ],
   "source": [
    "### calculating the pearsons correlation matrix for each pair of authors, fetching the best of them\n",
    "corr_matrix = df.groupby(['hour', 'author']).count()['text']\n",
    "print('\\n')\n",
    "corr_matrix = corr_matrix.unstack(level=-1, fill_value=0)\n",
    "corr_matrix = corr_matrix.corr()\n",
    "corr_matrix.replace(to_replace=1, value=0, inplace=True)\n",
    "corr_matrix = corr_matrix.stack().sort_values(ascending=False).drop_duplicates()\n",
    "print('Top authors with messages timing correlation:')\n",
    "print(corr_matrix.head())"
   ]
  },
  {
   "cell_type": "markdown",
   "metadata": {},
   "source": [
    "Время рисунков!\n",
    "Первый график - общее количество сообщений у каждого участника.\n",
    "При большом количестве участников (больше 10) - выводит только первые 10, предварительно отсортировав самых активных наверх. А то получится неразборчивая каша."
   ]
  },
  {
   "cell_type": "code",
   "execution_count": 18,
   "metadata": {},
   "outputs": [
    {
     "data": {
      "image/png": "[encoded data removed]",
      "text/plain": [
       "<Figure size 432x288 with 1 Axes>"
      ]
     },
     "metadata": {
      "needs_background": "light"
     },
     "output_type": "display_data"
    }
   ],
   "source": [
    "##### PLOTTING PART\n",
    "### plots media/text percentage\n",
    "\n",
    "### calculating and plotting overall authors messages number\n",
    "authors_count = df.groupby(['author']).count()['text']\n",
    "authors_count = authors_count.sort_values(ascending=False)\n",
    "if authors_num > 10:\n",
    "\ttitle = 'Top 10 authors mesages count'\n",
    "\tauthors_count = authors_count.iloc[:10]\n",
    "else:\n",
    "\ttitle = 'Authors messages count'\n",
    "ax = authors_count.plot(kind='bar', title=title, alpha=0.75)\n",
    "ax.set_ylabel('Number of messages')\n",
    "ax.set_xlabel('Authors')\n",
    "for i in ax.patches:\n",
    "\tax.text(i.get_x(), i.get_height(), str(int(i.get_height())))\n",
    "plt.setp(ax.get_xticklabels(), rotation=30, horizontalalignment='right') # rotating long xticks and make them confy to read\n",
    "plt.tight_layout()\n",
    "plt.show()"
   ]
  },
  {
   "cell_type": "markdown",
   "metadata": {},
   "source": [
    "График (а еще и топ-5) публикации текстовых сообщений/медиа участниками. Видны предпочтения авторов, кто любит писать, а кто картинки слать."
   ]
  },
  {
   "cell_type": "code",
   "execution_count": 19,
   "metadata": {},
   "outputs": [
    {
     "name": "stdout",
     "output_type": "stream",
     "text": [
      "media           Media    Text\n",
      "author                       \n",
      "Витек           630.0  1993.0\n",
      "Миша Колобегов  503.0  1587.0\n",
      "Эдик Лыскунов   169.0   870.0\n",
      "Anton Petkov     93.0   500.0\n",
      "Сева Баянович   133.0   389.0\n"
     ]
    },
    {
     "data": {
      "image/png": "[encoded data removed]",
      "text/plain": [
       "<Figure size 432x288 with 1 Axes>"
      ]
     },
     "metadata": {
      "needs_background": "light"
     },
     "output_type": "display_data"
    }
   ],
   "source": [
    "### calculating media/text ratio per author and plotting it\n",
    "medias_per_capita = df.groupby(['author', 'media']).count()['text']\n",
    "medias_per_capita = medias_per_capita.unstack(level=1)\n",
    "medias_per_capita = medias_per_capita.sort_values(by='Text', ascending=False)\n",
    "if authors_num > 10:\n",
    "\tmedias_per_capita = medias_per_capita.iloc[:10, :]\n",
    "\ttitle = 'Top 10 text / media per author'\n",
    "else:\n",
    "\ttitle = 'Text / Media per author'\t\n",
    "\n",
    "print(medias_per_capita.head())\n",
    "\n",
    "ax = medias_per_capita.plot(kind='bar', title=title, alpha=0.75)\n",
    "ax.set_ylabel('Number of messages')\n",
    "ax.set_xlabel('Authors')\n",
    "for i in ax.patches:\n",
    "\tax.text(i.get_x(), i.get_height(), str(int(i.get_height())))\n",
    "plt.setp(ax.get_xticklabels(), rotation=30, horizontalalignment='right') # rotating long xticks and make them confy to read\n",
    "plt.tight_layout()\n",
    "plt.show()"
   ]
  },
  {
   "cell_type": "markdown",
   "metadata": {},
   "source": [
    "График общей активности чата за всю историю:\n",
    "новый год так сразу видно)))"
   ]
  },
  {
   "cell_type": "code",
   "execution_count": 20,
   "metadata": {},
   "outputs": [
    {
     "data": {
      "image/png": "[encoded data removed]",
      "text/plain": [
       "<Figure size 432x288 with 1 Axes>"
      ]
     },
     "metadata": {
      "needs_background": "light"
     },
     "output_type": "display_data"
    }
   ],
   "source": [
    "### plotting overall messages history\n",
    "msg_weekly.plot(kind='line', title='Messages history', alpha=0.75)\n",
    "plt.xlabel('Date')\n",
    "plt.ylabel('Number of messages')\n",
    "plt.xticks(rotation=0)\n",
    "plt.tight_layout()\n",
    "plt.show()"
   ]
  },
  {
   "cell_type": "markdown",
   "metadata": {},
   "source": [
    "График использования картинок/мемасов/котят/еды вместо текста:"
   ]
  },
  {
   "cell_type": "code",
   "execution_count": 21,
   "metadata": {},
   "outputs": [
    {
     "name": "stdout",
     "output_type": "stream",
     "text": [
      "media\n",
      "Media    1673\n",
      "Text     5865\n",
      "Name: text, dtype: int64\n"
     ]
    },
    {
     "data": {
      "image/png": "[encoded data removed]",
      "text/plain": [
       "<Figure size 432x288 with 1 Axes>"
      ]
     },
     "metadata": {
      "needs_background": "light"
     },
     "output_type": "display_data"
    }
   ],
   "source": [
    "medias = df.groupby(['media']).count()['text']\n",
    "print(medias)\n",
    "medias.plot(kind='bar', title='Images/Videos/Funny shit percentage', width=0.20)\n",
    "plt.xlabel('Date')\n",
    "plt.ylabel('Number of messages')\n",
    "plt.xticks(rotation=0)\n",
    "plt.tight_layout()\n",
    "plt.show()"
   ]
  },
  {
   "cell_type": "markdown",
   "metadata": {},
   "source": [
    "График среднего количества сообщений в определённый час суток:\n",
    "Задавать свои вопросы с вероятностью быстро получить ответ лучше именно в пиковые его значения."
   ]
  },
  {
   "cell_type": "code",
   "execution_count": 22,
   "metadata": {},
   "outputs": [
    {
     "data": {
      "image/png": "[encoded data removed]",
      "text/plain": [
       "<Figure size 432x288 with 1 Axes>"
      ]
     },
     "metadata": {
      "needs_background": "light"
     },
     "output_type": "display_data"
    }
   ],
   "source": [
    "avg_msg_hour.plot(kind='bar', title='Average number of messages per hour', alpha=0.75, )\n",
    "plt.xlabel('Hour')\n",
    "plt.ylabel('Number of messages')\n",
    "plt.xticks(rotation=0)\n",
    "plt.tight_layout()\n",
    "plt.show()"
   ]
  },
  {
   "cell_type": "markdown",
   "metadata": {},
   "source": [
    "Топ 20 слов используемых в чате: Ограничил размер от 3 символов, ибо предлоги всегда в топе использования в человеческой речи.\n",
    "И топ 20 матерных слов в чате:\n",
    "В списке (слово, его количество)"
   ]
  },
  {
   "cell_type": "code",
   "execution_count": 24,
   "metadata": {},
   "outputs": [
    {
     "name": "stdout",
     "output_type": "stream",
     "text": [
      "Top 20 chart of words used in chat, longer then 3 characters: \n",
      " [('брат', 145), ('😂😂😂😂', 81), ('меня', 77), ('только', 74), ('тоже', 74), ('надо', 71), ('новая', 70), ('когда', 65), ('ебать', 64), ('есть', 59), ('просто', 58), ('если', 58), ('пиздец', 53), ('было', 52), ('потом', 49), ('тебя', 49), ('сейчас', 46), ('брат,', 44), ('помню', 44), ('братан', 43)]\n",
      "\n",
      "\n",
      "Top 20 chart of swear words: \n",
      " [('ебать', 64), ('пиздец', 53), ('хуй', 30), ('пизда', 22), ('нахуй', 21), ('хуйня', 12), ('ахуел', 10), ('ахуеть', 10), ('похуй', 10), ('ебать,', 9), ('пиздец.', 9), ('пиздос', 6), ('хуйню', 6), ('нехуй', 5), ('ахуе', 5), ('ахуенный', 5), ('пизды', 5), ('хуету', 5), ('ахуенно', 5), ('ебаные', 5)]\n"
     ]
    }
   ],
   "source": [
    "print('Top 20 chart of words used in chat, longer then 3 characters: \\n', words_dict[:20])\n",
    "print('\\n')\n",
    "print('Top 20 chart of swear words: \\n', swears_dict[:20])"
   ]
  }
 ],
 "metadata": {
  "kernelspec": {
   "display_name": "Python 3",
   "language": "python",
   "name": "python3"
  },
  "language_info": {
   "codemirror_mode": {
    "name": "ipython",
    "version": 3
   },
   "file_extension": ".py",
   "mimetype": "text/x-python",
   "name": "python",
   "nbconvert_exporter": "python",
   "pygments_lexer": "ipython3",
   "version": "3.7.4"
  }
 },
 "nbformat": 4,
 "nbformat_minor": 2
}
