{
 "cells": [
  {
   "cell_type": "markdown",
   "metadata": {},
   "source": [
    "## Парсер и анализатор чатов WhatsApp\n",
    "### Данные предоставляются через экспорт чата в меню приложения.\n",
    "Анализирует чат и показывает зависимости.   \n",
    "Анализирует текст на наличие матерных слов и считает статистику использования мата.   \n",
    "Датасет можно получить из приложения в меню чата:\n",
    "\n",
    "1. Три точечки в верхнем-правом углу окна чата (группы)\n",
    "![](images/1.png)\n",
    "\n",
    "2. Раздел \"Ещё\"\n",
    "![](images/2.png)\n",
    "\n",
    "3. Выбрать \"Экспорт чата\"\n",
    "![](images/3.png)\n",
    "\n",
    "4. Экспортировать чат БЕЗ ФАЙЛОВ.\n",
    "![](images/4.png)\n",
    "\n",
    "Файл чата должен лежать в папке dataset.\n",
    "Файл swears.txt - словарь матерных слов, можно добавить свои варианты."
   ]
  },
  {
   "cell_type": "code",
   "execution_count": 1,
   "metadata": {},
   "outputs": [],
   "source": [
    "%matplotlib inline\n",
    "\n",
    "import matplotlib.pyplot as plt\n",
    "from datetime import datetime as dt\n",
    "import numpy as np\n",
    "import pandas as pd\n",
    "import markovify\n",
    "import re\n",
    "import glob\n",
    "import string\n",
    "import emoji\n",
    "from collections import Counter\n",
    "from IPython.display import display, HTML\n",
    "\n",
    "### opening swears dictionary and log dataset\n",
    "swears = open('dataset/swears.txt', 'r', encoding=\"utf-8\")\n",
    "swears = swears.read()\n",
    "swears = swears.split('\\n')\n",
    "\n",
    "f = open(glob.glob('dataset/*WhatsApp*.txt')[0], 'r', encoding=\"utf-8\")\n",
    "f = f.read()\n",
    "f = f.replace('\\n', ' ')\n",
    "stopwords = open('dataset/stopwords-ru.txt', 'r', encoding='utf-8').read().splitlines()\n",
    "\n",
    "### initializing global variables\n",
    "swears_dict = Counter()\n",
    "words_dict = Counter()\n",
    "plt.style.use('ggplot')\n"
   ]
  },
  {
   "cell_type": "markdown",
   "metadata": {},
   "source": [
    "Задаём несколько функций, который помогут в дальнейшем.   \n",
    "Счётчик слов   \n",
    "Счётчик только матерных слов   \n",
    "Сборщик библиотеки мата   \n",
    "Сборщик общего словарного запаса   "
   ]
  },
  {
   "cell_type": "code",
   "execution_count": 2,
   "metadata": {},
   "outputs": [],
   "source": [
    "def words_count(input_string):\n",
    "\t### function returns the number of words in input_string\n",
    "\tif (input_string[0] != '<' and input_string[-1] != '>'):\n",
    "\t\treturn len(input_string.split())\n",
    "\n",
    "def swear_count(input_string):\n",
    "\t### function returns the number of swear words found in input input_string\n",
    "\tinput_string = input_string.lower()\n",
    "\tcount = 0\n",
    "\tfor word in swears:\n",
    "\t\tcount += input_string.count(word)\n",
    "\treturn count\n",
    "\n",
    "def swears_collect(input_string):\n",
    "\t### function for adding swear words to global swear_dict dictionary from input input_string\n",
    "\tinput_string = input_string.lower().split()\n",
    "\tfor word in input_string:\n",
    "\t\tword = word.translate(str.maketrans('', '', string.punctuation + '«»'))\n",
    "\t\tfor swear in swears:\n",
    "\t\t\tif swear in word:\n",
    "\t\t\t\tswears_dict[word] += 1\n",
    "\n",
    "def to_dict(input_string):\n",
    "\t### fucntion for adding all words from input input_string to global words_dict dictionary\n",
    "\tinput_string = input_string.lower()\n",
    "\tif (input_string[0] != '<' and input_string[-1] != '>'):\n",
    "\t\tinput_string = input_string.split()\n",
    "\t\tfor word in input_string:\n",
    "\t\t\tword = word.translate(str.maketrans('', '', string.punctuation + '«»' + '—' + '–'))\n",
    "\t\t\tif (word not in stopwords) and \\\n",
    "\t\t\t(word not in string.punctuation) and \\\n",
    "\t\t\t(word[0] not in emoji.UNICODE_EMOJI):\n",
    "\t\t\t\twords_dict[word] += 1"
   ]
  },
  {
   "cell_type": "markdown",
   "metadata": {},
   "source": [
    "Прогоняем наш файл с чатом через парсер. Регулярным выражением выуживаем паттерны сообщений со структурой даты/автора/текста.\n",
    "Пропускаем сервисные сообщения.\n",
    "Печатем первые 5 строк датасета."
   ]
  },
  {
   "cell_type": "code",
   "execution_count": 3,
   "metadata": {},
   "outputs": [
    {
     "data": {
      "text/html": [
       "<div>\n",
       "<style scoped>\n",
       "    .dataframe tbody tr th:only-of-type {\n",
       "        vertical-align: middle;\n",
       "    }\n",
       "\n",
       "    .dataframe tbody tr th {\n",
       "        vertical-align: top;\n",
       "    }\n",
       "\n",
       "    .dataframe thead th {\n",
       "        text-align: right;\n",
       "    }\n",
       "</style>\n",
       "<table border=\"1\" class=\"dataframe\">\n",
       "  <thead>\n",
       "    <tr style=\"text-align: right;\">\n",
       "      <th></th>\n",
       "      <th>author</th>\n",
       "      <th>text</th>\n",
       "    </tr>\n",
       "    <tr>\n",
       "      <th>timestamp</th>\n",
       "      <th></th>\n",
       "      <th></th>\n",
       "    </tr>\n",
       "  </thead>\n",
       "  <tbody>\n",
       "    <tr>\n",
       "      <td>2018-12-31 14:06:00</td>\n",
       "      <td>Миша Колобегов</td>\n",
       "      <td>Давай</td>\n",
       "    </tr>\n",
       "    <tr>\n",
       "      <td>2018-12-31 14:06:00</td>\n",
       "      <td>Anton Petkov</td>\n",
       "      <td>Ох ебать</td>\n",
       "    </tr>\n",
       "    <tr>\n",
       "      <td>2018-12-31 14:06:00</td>\n",
       "      <td>Anton Petkov</td>\n",
       "      <td>Здарова</td>\n",
       "    </tr>\n",
       "    <tr>\n",
       "      <td>2018-12-31 14:06:00</td>\n",
       "      <td>Миша Колобегов</td>\n",
       "      <td>Антик</td>\n",
       "    </tr>\n",
       "    <tr>\n",
       "      <td>2018-12-31 14:06:00</td>\n",
       "      <td>Леха Харченко</td>\n",
       "      <td>Здарова</td>\n",
       "    </tr>\n",
       "  </tbody>\n",
       "</table>\n",
       "</div>"
      ],
      "text/plain": [
       "                             author      text\n",
       "timestamp                                    \n",
       "2018-12-31 14:06:00  Миша Колобегов     Давай\n",
       "2018-12-31 14:06:00    Anton Petkov  Ох ебать\n",
       "2018-12-31 14:06:00    Anton Petkov   Здарова\n",
       "2018-12-31 14:06:00  Миша Колобегов     Антик\n",
       "2018-12-31 14:06:00   Леха Харченко   Здарова"
      ]
     },
     "metadata": {},
     "output_type": "display_data"
    }
   ],
   "source": [
    "##### Parcing the raw dataset, cleaning it.\n",
    "pattern = re.compile(r'(?P<timestamp>\\d\\d.\\d\\d.\\d\\d\\d\\d, \\d\\d:\\d\\d) - (?!\\u200e)(?P<author>.*?): (?P<text>.*?)(?=( \\d\\d.\\d\\d.\\d\\d\\d\\d, \\d\\d:\\d\\d| $))')\n",
    "match = re.findall(pattern, f)\n",
    "\n",
    "df = pd.DataFrame.from_dict(match)\n",
    "df = df.iloc[1:, 0:3]\n",
    "df.columns=['timestamp', 'author', 'text']\n",
    "df['timestamp'] = pd.to_datetime(df['timestamp'], format='%d.%m.%Y, %H:%M')\n",
    "df.set_index('timestamp', inplace=True)\n",
    "\n",
    "display(df.head())"
   ]
  },
  {
   "cell_type": "markdown",
   "metadata": {},
   "source": [
    "Добавляем вспомогательные колонки.   \n",
    "swears_num - количество матерных слов в сообщении   \n",
    "words_num - количество слов в сообщении   \n",
    "media - тип сообщения (медиа или текст)   \n",
    "hour - час в течении которого было оставлено сообщение"
   ]
  },
  {
   "cell_type": "code",
   "execution_count": 4,
   "metadata": {},
   "outputs": [],
   "source": [
    "#### ADDING COLUMNS\n",
    "\n",
    "### adding column with swears number in each message\n",
    "df['swears_num'] = df['text'].map(swear_count)\n",
    "# df.sort_values('swears_num', inplace=True)\n",
    "\n",
    "### adding column with all words in message number\n",
    "df['words_num'] = df['text'].map(words_count)\n",
    "\n",
    "### adding column with boolean whether the message is just a meme or video\n",
    "df['media'] = df['text'].map(lambda x: 'Media' if (x[0] == '<' and x[-1] == '>') else 'Text')\n",
    "\n",
    "### adding 'hour' column for further grouping\n",
    "df['hour'] = df.index.hour"
   ]
  },
  {
   "cell_type": "markdown",
   "metadata": {},
   "source": [
    "Общее число сообщений:"
   ]
  },
  {
   "cell_type": "code",
   "execution_count": 5,
   "metadata": {},
   "outputs": [
    {
     "name": "stdout",
     "output_type": "stream",
     "text": [
      "Общее число сообщений: 7538\n"
     ]
    }
   ],
   "source": [
    "### printing the number of messages\n",
    "print('Общее число сообщений: {}'.format(df.shape[0]))"
   ]
  },
  {
   "cell_type": "markdown",
   "metadata": {},
   "source": [
    "Количество и список участников (тут везде \"авторов\") чата:"
   ]
  },
  {
   "cell_type": "code",
   "execution_count": 6,
   "metadata": {},
   "outputs": [
    {
     "name": "stdout",
     "output_type": "stream",
     "text": [
      "В чате (группе) 8 автора(ов): \n",
      "['Миша Колобегов', 'Anton Petkov', 'Леха Харченко', 'Витек', 'Сева Баянович', 'Эдик Лыскунов', 'Стас Джулай', '+7 904 344-74-40']\n"
     ]
    }
   ],
   "source": [
    "### building the list of authors, printing it\n",
    "authors = df['author'].unique().tolist()\n",
    "authors_num = len(authors)\n",
    "print('В чате (группе) {} автора(ов): \\n{}'.format(authors_num, authors))"
   ]
  },
  {
   "cell_type": "markdown",
   "metadata": {},
   "source": [
    "Дата самого первого сообщения (создание чата), последнего сообщения, возраст чата:"
   ]
  },
  {
   "cell_type": "code",
   "execution_count": 7,
   "metadata": {},
   "outputs": [
    {
     "name": "stdout",
     "output_type": "stream",
     "text": [
      "Дата первого сообщения: 2018-12-31 14:06:00\n",
      "Дата последнего сообщения: 2019-09-29 19:03:00\n",
      "Возраст чата в днях: 272\n",
      "Возраст чата в годах: 0.75\n"
     ]
    }
   ],
   "source": [
    "### printing first message, last message, chat age\n",
    "print('Дата первого сообщения: {}'.format(min(df.index)))\n",
    "print('Дата последнего сообщения: {}'.format(max(df.index)))\n",
    "days = int((max(df.index) - min(df.index)).days)\n",
    "print('Возраст чата в днях: {}\\nВозраст чата в годах: {:.2f}'.format(days, days / 365))\n",
    "avg_msg_hour = df.groupby('hour').count()['text'] / days"
   ]
  },
  {
   "cell_type": "markdown",
   "metadata": {},
   "source": [
    "Составляем словари слов и матерных слов:"
   ]
  },
  {
   "cell_type": "code",
   "execution_count": 8,
   "metadata": {},
   "outputs": [
    {
     "data": {
      "text/plain": [
       "timestamp\n",
       "2018-12-31 14:06:00    None\n",
       "2018-12-31 14:06:00    None\n",
       "2018-12-31 14:06:00    None\n",
       "2018-12-31 14:06:00    None\n",
       "2018-12-31 14:06:00    None\n",
       "                       ... \n",
       "2019-09-29 18:50:00    None\n",
       "2019-09-29 18:50:00    None\n",
       "2019-09-29 18:50:00    None\n",
       "2019-09-29 18:56:00    None\n",
       "2019-09-29 19:03:00    None\n",
       "Name: text, Length: 7538, dtype: object"
      ]
     },
     "execution_count": 8,
     "metadata": {},
     "output_type": "execute_result"
    }
   ],
   "source": [
    "### buildig a dict (words_dict) with words from chat (text column). Not adding a column, but collecting data\n",
    "df['text'].map(to_dict)\n",
    "\n",
    "### building a dict of swears usage (swears_dict) from words_dict. Not adding a column, but collecting data\n",
    "df['text'].map(swears_collect)"
   ]
  },
  {
   "cell_type": "markdown",
   "metadata": {},
   "source": [
    "Ещё один фрейм с количеством сообщений в неделю за весь период чата:"
   ]
  },
  {
   "cell_type": "code",
   "execution_count": 9,
   "metadata": {},
   "outputs": [],
   "source": [
    "### calculating weekly messages number for alltime\n",
    "msg_weekly = df.resample('W').count()['text']"
   ]
  },
  {
   "cell_type": "markdown",
   "metadata": {},
   "source": [
    "Рассчитываем процент мата у каждого участника чата:\n",
    "Первый фрейм со столбцами \"Общее кол-во слов\" - \"Из них мата\"\n",
    "Второй топ по процентным соотношениям, самые матершинники вверху."
   ]
  },
  {
   "cell_type": "code",
   "execution_count": 10,
   "metadata": {},
   "outputs": [
    {
     "data": {
      "text/html": [
       "<div>\n",
       "<style scoped>\n",
       "    .dataframe tbody tr th:only-of-type {\n",
       "        vertical-align: middle;\n",
       "    }\n",
       "\n",
       "    .dataframe tbody tr th {\n",
       "        vertical-align: top;\n",
       "    }\n",
       "\n",
       "    .dataframe thead th {\n",
       "        text-align: right;\n",
       "    }\n",
       "</style>\n",
       "<table border=\"1\" class=\"dataframe\">\n",
       "  <thead>\n",
       "    <tr style=\"text-align: right;\">\n",
       "      <th></th>\n",
       "      <th>words_num</th>\n",
       "      <th>swears_num</th>\n",
       "    </tr>\n",
       "    <tr>\n",
       "      <th>author</th>\n",
       "      <th></th>\n",
       "      <th></th>\n",
       "    </tr>\n",
       "  </thead>\n",
       "  <tbody>\n",
       "    <tr>\n",
       "      <td>+7 904 344-74-40</td>\n",
       "      <td>27.0</td>\n",
       "      <td>0</td>\n",
       "    </tr>\n",
       "    <tr>\n",
       "      <td>Anton Petkov</td>\n",
       "      <td>4467.0</td>\n",
       "      <td>133</td>\n",
       "    </tr>\n",
       "    <tr>\n",
       "      <td>Витек</td>\n",
       "      <td>8115.0</td>\n",
       "      <td>224</td>\n",
       "    </tr>\n",
       "    <tr>\n",
       "      <td>Леха Харченко</td>\n",
       "      <td>1049.0</td>\n",
       "      <td>34</td>\n",
       "    </tr>\n",
       "    <tr>\n",
       "      <td>Миша Колобегов</td>\n",
       "      <td>6216.0</td>\n",
       "      <td>45</td>\n",
       "    </tr>\n",
       "  </tbody>\n",
       "</table>\n",
       "</div>"
      ],
      "text/plain": [
       "                  words_num  swears_num\n",
       "author                                 \n",
       "+7 904 344-74-40       27.0           0\n",
       "Anton Petkov         4467.0         133\n",
       "Витек                8115.0         224\n",
       "Леха Харченко        1049.0          34\n",
       "Миша Колобегов       6216.0          45"
      ]
     },
     "metadata": {},
     "output_type": "display_data"
    },
    {
     "name": "stdout",
     "output_type": "stream",
     "text": [
      "Самый активный автор: Витек\n",
      "\n",
      "Слова и матерные слова в процентах для каждого автора:\n",
      "author\n",
      "Леха Харченко    3.241182\n",
      "Anton Petkov     2.977390\n",
      "Витек            2.760320\n",
      "Сева Баянович    1.831502\n",
      "Эдик Лыскунов    0.776119\n",
      "Name: percent, dtype: float64\n"
     ]
    }
   ],
   "source": [
    "### calculating swear words usage for each author\n",
    "words_swears_users = df.groupby('author').sum()[['words_num', 'swears_num']]\n",
    "most_active = df.groupby('author').count()['text'].sort_values(ascending=False).index[0]\n",
    "display(words_swears_users.head())\n",
    "words_swears_users['percent'] = (words_swears_users['swears_num'] / words_swears_users['words_num']) * 100\n",
    "words_swears_users = words_swears_users.sort_values(by='percent', ascending=False)\n",
    "print('Самый активный автор: {}'.format(most_active))\n",
    "print('\\nСлова и матерные слова в процентах для каждого автора:')\n",
    "print(words_swears_users['percent'].head())"
   ]
  },
  {
   "cell_type": "markdown",
   "metadata": {},
   "source": [
    "Рассчёт матрицы корреляций Пирсона для каждого участника автора, с дальнейшей сортировкой наивысших коэффициентов наверх:\n",
    "В данном случае коэффициент - по сути вероятность того, что участники общаются между собой, чем с другими участниками."
   ]
  },
  {
   "cell_type": "code",
   "execution_count": 11,
   "metadata": {},
   "outputs": [
    {
     "name": "stdout",
     "output_type": "stream",
     "text": [
      "\n",
      "\n",
      "Топ авторов в корреляциями во времени сообщений:\n"
     ]
    },
    {
     "data": {
      "text/plain": [
       "author          author        \n",
       "Миша Колобегов  Витек             0.840906\n",
       "Anton Petkov    Эдик Лыскунов     0.828766\n",
       "Витек           Леха Харченко     0.807938\n",
       "Леха Харченко   Миша Колобегов    0.772735\n",
       "Сева Баянович   Леха Харченко     0.731589\n",
       "dtype: float64"
      ]
     },
     "metadata": {},
     "output_type": "display_data"
    }
   ],
   "source": [
    "### calculating the pearsons correlation matrix for each pair of authors, fetching the best of them\n",
    "corr_matrix = df.groupby(['hour', 'author']).count()['text']\n",
    "print('\\n')\n",
    "corr_matrix = corr_matrix.unstack(level=-1, fill_value=0)\n",
    "corr_matrix = corr_matrix.corr()\n",
    "corr_matrix.replace(to_replace=1, value=0, inplace=True)\n",
    "corr_matrix = corr_matrix.stack().sort_values(ascending=False).drop_duplicates()\n",
    "print('Топ авторов в корреляциями во времени сообщений:')\n",
    "display(corr_matrix.head())"
   ]
  },
  {
   "cell_type": "markdown",
   "metadata": {},
   "source": [
    "Время рисунков!\n",
    "Первый график - общее количество сообщений у каждого участника.\n",
    "При большом количестве участников (больше 10) - выводит только первые 10, предварительно отсортировав самых активных наверх. А то получится неразборчивая каша."
   ]
  },
  {
   "cell_type": "code",
   "execution_count": 12,
   "metadata": {
    "scrolled": true
   },
   "outputs": [
    {
     "data": {
      "image/png": "[encoded data removed]",
      "text/plain": [
       "<Figure size 432x288 with 1 Axes>"
      ]
     },
     "metadata": {
      "needs_background": "light"
     },
     "output_type": "display_data"
    }
   ],
   "source": [
    "##### PLOTTING PART\n",
    "### plots media/text percentage\n",
    "\n",
    "### calculating and plotting overall authors messages number\n",
    "authors_count = df.groupby(['author']).count()['text']\n",
    "authors_count = authors_count.sort_values(ascending=False)\n",
    "if authors_num > 10:\n",
    "\ttitle = 'Топ 10 авторов сообщений по количеству'\n",
    "\tauthors_count = authors_count.iloc[:10]\n",
    "else:\n",
    "\ttitle = 'Авторы сообщений по количеству'\n",
    "ax = authors_count.plot(kind='bar', title=title, alpha=0.75)\n",
    "ax.set_ylabel('Кол-во сообщений')\n",
    "ax.set_xlabel('Авторы')\n",
    "for i in ax.patches:\n",
    "\tax.text(i.get_x(), i.get_height(), str(int(i.get_height())))\n",
    "plt.setp(ax.get_xticklabels(), rotation=30, horizontalalignment='right') # rotating long xticks and make them confy to read\n",
    "plt.tight_layout()\n",
    "plt.show()"
   ]
  },
  {
   "cell_type": "markdown",
   "metadata": {},
   "source": [
    "График (а еще и топ-5) публикации текстовых сообщений/медиа участниками. Видны предпочтения авторов, кто любит писать, а кто картинки слать."
   ]
  },
  {
   "cell_type": "code",
   "execution_count": 13,
   "metadata": {},
   "outputs": [
    {
     "data": {
      "text/html": [
       "<div>\n",
       "<style scoped>\n",
       "    .dataframe tbody tr th:only-of-type {\n",
       "        vertical-align: middle;\n",
       "    }\n",
       "\n",
       "    .dataframe tbody tr th {\n",
       "        vertical-align: top;\n",
       "    }\n",
       "\n",
       "    .dataframe thead th {\n",
       "        text-align: right;\n",
       "    }\n",
       "</style>\n",
       "<table border=\"1\" class=\"dataframe\">\n",
       "  <thead>\n",
       "    <tr style=\"text-align: right;\">\n",
       "      <th>media</th>\n",
       "      <th>Media</th>\n",
       "      <th>Text</th>\n",
       "    </tr>\n",
       "    <tr>\n",
       "      <th>author</th>\n",
       "      <th></th>\n",
       "      <th></th>\n",
       "    </tr>\n",
       "  </thead>\n",
       "  <tbody>\n",
       "    <tr>\n",
       "      <td>Витек</td>\n",
       "      <td>630.0</td>\n",
       "      <td>1993.0</td>\n",
       "    </tr>\n",
       "    <tr>\n",
       "      <td>Миша Колобегов</td>\n",
       "      <td>503.0</td>\n",
       "      <td>1587.0</td>\n",
       "    </tr>\n",
       "    <tr>\n",
       "      <td>Эдик Лыскунов</td>\n",
       "      <td>169.0</td>\n",
       "      <td>870.0</td>\n",
       "    </tr>\n",
       "    <tr>\n",
       "      <td>Anton Petkov</td>\n",
       "      <td>93.0</td>\n",
       "      <td>500.0</td>\n",
       "    </tr>\n",
       "    <tr>\n",
       "      <td>Сева Баянович</td>\n",
       "      <td>133.0</td>\n",
       "      <td>389.0</td>\n",
       "    </tr>\n",
       "  </tbody>\n",
       "</table>\n",
       "</div>"
      ],
      "text/plain": [
       "media           Media    Text\n",
       "author                       \n",
       "Витек           630.0  1993.0\n",
       "Миша Колобегов  503.0  1587.0\n",
       "Эдик Лыскунов   169.0   870.0\n",
       "Anton Petkov     93.0   500.0\n",
       "Сева Баянович   133.0   389.0"
      ]
     },
     "metadata": {},
     "output_type": "display_data"
    },
    {
     "data": {
      "image/png": "[encoded data removed]",
      "text/plain": [
       "<Figure size 432x288 with 1 Axes>"
      ]
     },
     "metadata": {
      "needs_background": "light"
     },
     "output_type": "display_data"
    }
   ],
   "source": [
    "### calculating media/text ratio per author and plotting it\n",
    "medias_per_capita = df.groupby(['author', 'media']).count()['text']\n",
    "medias_per_capita = medias_per_capita.unstack(level=1)\n",
    "medias_per_capita = medias_per_capita.sort_values(by='Text', ascending=False)\n",
    "if authors_num > 10:\n",
    "\tmedias_per_capita = medias_per_capita.iloc[:10, :]\n",
    "\ttitle = 'Топ 10 медиа / текст на автора'\n",
    "else:\n",
    "\ttitle = 'Текст / медиа на автора'\n",
    "\n",
    "display(medias_per_capita.head())\n",
    "\n",
    "ax = medias_per_capita.plot(kind='bar', title=title, alpha=0.75)\n",
    "ax.set_ylabel('Кол-во сообщений')\n",
    "ax.set_xlabel('Авторы')\n",
    "for i in ax.patches:\n",
    "\tax.text(i.get_x(), i.get_height(), str(int(i.get_height())))\n",
    "plt.setp(ax.get_xticklabels(), rotation=30, horizontalalignment='right') # rotating long xticks and make them confy to read\n",
    "plt.tight_layout()\n",
    "plt.show()"
   ]
  },
  {
   "cell_type": "markdown",
   "metadata": {},
   "source": [
    "График общей активности чата за всю историю:\n",
    "новая года сразу видна)))"
   ]
  },
  {
   "cell_type": "code",
   "execution_count": 14,
   "metadata": {},
   "outputs": [
    {
     "data": {
      "image/png": "[encoded data removed]",
      "text/plain": [
       "<Figure size 432x288 with 1 Axes>"
      ]
     },
     "metadata": {
      "needs_background": "light"
     },
     "output_type": "display_data"
    }
   ],
   "source": [
    "### plotting overall messages history\n",
    "msg_weekly.plot(kind='line', title='Хронология сообщений', alpha=0.75)\n",
    "plt.xlabel('Дата')\n",
    "plt.ylabel('Кол-во сообщений')\n",
    "plt.xticks(rotation=0)\n",
    "plt.tight_layout()\n",
    "plt.show()"
   ]
  },
  {
   "cell_type": "markdown",
   "metadata": {},
   "source": [
    "График использования картинок/мемасов/котят/еды вместо текста:"
   ]
  },
  {
   "cell_type": "code",
   "execution_count": 15,
   "metadata": {},
   "outputs": [
    {
     "name": "stdout",
     "output_type": "stream",
     "text": [
      "media\n",
      "Media    1673\n",
      "Text     5865\n",
      "Name: text, dtype: int64\n"
     ]
    },
    {
     "data": {
      "image/png": "[encoded data removed]",
      "text/plain": [
       "<Figure size 432x288 with 1 Axes>"
      ]
     },
     "metadata": {
      "needs_background": "light"
     },
     "output_type": "display_data"
    }
   ],
   "source": [
    "medias = df.groupby(['media']).count()['text']\n",
    "print(medias)\n",
    "medias.plot(kind='bar', title='Соотношение картинки/виде/прочее и текст', width=0.20)\n",
    "plt.xlabel('Дата')\n",
    "plt.ylabel('Кол-во сообщений')\n",
    "plt.xticks(rotation=0)\n",
    "plt.tight_layout()\n",
    "plt.show()"
   ]
  },
  {
   "cell_type": "markdown",
   "metadata": {},
   "source": [
    "График среднего количества сообщений в определённый час суток:\n",
    "Задавать свои вопросы с вероятностью быстро получить ответ лучше именно в пиковые его значения."
   ]
  },
  {
   "cell_type": "code",
   "execution_count": 16,
   "metadata": {},
   "outputs": [
    {
     "data": {
      "image/png": "[encoded data removed]",
      "text/plain": [
       "<Figure size 432x288 with 1 Axes>"
      ]
     },
     "metadata": {
      "needs_background": "light"
     },
     "output_type": "display_data"
    }
   ],
   "source": [
    "avg_msg_hour.plot(kind='bar', title='Среднее количество сообщений в определенный час', alpha=0.75, )\n",
    "plt.xlabel('Час')\n",
    "plt.ylabel('Кол-во сообщений')\n",
    "plt.xticks(rotation=0)\n",
    "plt.tight_layout()\n",
    "plt.show()"
   ]
  },
  {
   "cell_type": "markdown",
   "metadata": {},
   "source": [
    "Топ 20 слов используемых в чате: Ограничил размер от 3 символов, ибо предлоги всегда в топе использования в человеческой речи.\n",
    "И топ 20 матерных слов в чате:\n",
    "В списке (слово, его количество)"
   ]
  },
  {
   "cell_type": "code",
   "execution_count": 17,
   "metadata": {},
   "outputs": [
    {
     "name": "stdout",
     "output_type": "stream",
     "text": [
      "Топ 20 слов используемых в чате, длинее 3 букв:\n"
     ]
    },
    {
     "data": {
      "text/html": [
       "<div>\n",
       "<style scoped>\n",
       "    .dataframe tbody tr th:only-of-type {\n",
       "        vertical-align: middle;\n",
       "    }\n",
       "\n",
       "    .dataframe tbody tr th {\n",
       "        vertical-align: top;\n",
       "    }\n",
       "\n",
       "    .dataframe thead th {\n",
       "        text-align: right;\n",
       "    }\n",
       "</style>\n",
       "<table border=\"1\" class=\"dataframe\">\n",
       "  <thead>\n",
       "    <tr style=\"text-align: right;\">\n",
       "      <th></th>\n",
       "      <th>0</th>\n",
       "      <th>1</th>\n",
       "    </tr>\n",
       "  </thead>\n",
       "  <tbody>\n",
       "    <tr>\n",
       "      <td>0</td>\n",
       "      <td>брат</td>\n",
       "      <td>207</td>\n",
       "    </tr>\n",
       "    <tr>\n",
       "      <td>1</td>\n",
       "      <td>че</td>\n",
       "      <td>148</td>\n",
       "    </tr>\n",
       "    <tr>\n",
       "      <td>2</td>\n",
       "      <td>бля</td>\n",
       "      <td>78</td>\n",
       "    </tr>\n",
       "    <tr>\n",
       "      <td>3</td>\n",
       "      <td>ебать</td>\n",
       "      <td>75</td>\n",
       "    </tr>\n",
       "    <tr>\n",
       "      <td>4</td>\n",
       "      <td>новая</td>\n",
       "      <td>70</td>\n",
       "    </tr>\n",
       "    <tr>\n",
       "      <td>5</td>\n",
       "      <td>пиздец</td>\n",
       "      <td>66</td>\n",
       "    </tr>\n",
       "    <tr>\n",
       "      <td>6</td>\n",
       "      <td>братан</td>\n",
       "      <td>65</td>\n",
       "    </tr>\n",
       "    <tr>\n",
       "      <td>7</td>\n",
       "      <td>блять</td>\n",
       "      <td>58</td>\n",
       "    </tr>\n",
       "    <tr>\n",
       "      <td>8</td>\n",
       "      <td>хз</td>\n",
       "      <td>50</td>\n",
       "    </tr>\n",
       "    <tr>\n",
       "      <td>9</td>\n",
       "      <td>помню</td>\n",
       "      <td>48</td>\n",
       "    </tr>\n",
       "    <tr>\n",
       "      <td>10</td>\n",
       "      <td>ага</td>\n",
       "      <td>43</td>\n",
       "    </tr>\n",
       "    <tr>\n",
       "      <td>11</td>\n",
       "      <td>рот</td>\n",
       "      <td>42</td>\n",
       "    </tr>\n",
       "    <tr>\n",
       "      <td>12</td>\n",
       "      <td>2</td>\n",
       "      <td>42</td>\n",
       "    </tr>\n",
       "    <tr>\n",
       "      <td>13</td>\n",
       "      <td>щас</td>\n",
       "      <td>40</td>\n",
       "    </tr>\n",
       "    <tr>\n",
       "      <td>14</td>\n",
       "      <td>эдик</td>\n",
       "      <td>39</td>\n",
       "    </tr>\n",
       "    <tr>\n",
       "      <td>15</td>\n",
       "      <td>пидараза</td>\n",
       "      <td>35</td>\n",
       "    </tr>\n",
       "    <tr>\n",
       "      <td>16</td>\n",
       "      <td>ппц</td>\n",
       "      <td>35</td>\n",
       "    </tr>\n",
       "    <tr>\n",
       "      <td>17</td>\n",
       "      <td>стас</td>\n",
       "      <td>35</td>\n",
       "    </tr>\n",
       "    <tr>\n",
       "      <td>18</td>\n",
       "      <td>миша</td>\n",
       "      <td>34</td>\n",
       "    </tr>\n",
       "    <tr>\n",
       "      <td>19</td>\n",
       "      <td>кстати</td>\n",
       "      <td>33</td>\n",
       "    </tr>\n",
       "  </tbody>\n",
       "</table>\n",
       "</div>"
      ],
      "text/plain": [
       "           0    1\n",
       "0       брат  207\n",
       "1         че  148\n",
       "2        бля   78\n",
       "3      ебать   75\n",
       "4      новая   70\n",
       "5     пиздец   66\n",
       "6     братан   65\n",
       "7      блять   58\n",
       "8         хз   50\n",
       "9      помню   48\n",
       "10       ага   43\n",
       "11       рот   42\n",
       "12         2   42\n",
       "13       щас   40\n",
       "14      эдик   39\n",
       "15  пидараза   35\n",
       "16       ппц   35\n",
       "17      стас   35\n",
       "18      миша   34\n",
       "19    кстати   33"
      ]
     },
     "metadata": {},
     "output_type": "display_data"
    },
    {
     "name": "stdout",
     "output_type": "stream",
     "text": [
      "\n",
      "\n",
      "Топ 20 матерных слов: \n",
      "\n"
     ]
    },
    {
     "data": {
      "text/html": [
       "<div>\n",
       "<style scoped>\n",
       "    .dataframe tbody tr th:only-of-type {\n",
       "        vertical-align: middle;\n",
       "    }\n",
       "\n",
       "    .dataframe tbody tr th {\n",
       "        vertical-align: top;\n",
       "    }\n",
       "\n",
       "    .dataframe thead th {\n",
       "        text-align: right;\n",
       "    }\n",
       "</style>\n",
       "<table border=\"1\" class=\"dataframe\">\n",
       "  <thead>\n",
       "    <tr style=\"text-align: right;\">\n",
       "      <th></th>\n",
       "      <th>0</th>\n",
       "      <th>1</th>\n",
       "    </tr>\n",
       "  </thead>\n",
       "  <tbody>\n",
       "    <tr>\n",
       "      <td>0</td>\n",
       "      <td>ебать</td>\n",
       "      <td>75</td>\n",
       "    </tr>\n",
       "    <tr>\n",
       "      <td>1</td>\n",
       "      <td>пиздец</td>\n",
       "      <td>66</td>\n",
       "    </tr>\n",
       "    <tr>\n",
       "      <td>2</td>\n",
       "      <td>нахуй</td>\n",
       "      <td>32</td>\n",
       "    </tr>\n",
       "    <tr>\n",
       "      <td>3</td>\n",
       "      <td>хуй</td>\n",
       "      <td>30</td>\n",
       "    </tr>\n",
       "    <tr>\n",
       "      <td>4</td>\n",
       "      <td>пизда</td>\n",
       "      <td>24</td>\n",
       "    </tr>\n",
       "    <tr>\n",
       "      <td>5</td>\n",
       "      <td>ахуеть</td>\n",
       "      <td>16</td>\n",
       "    </tr>\n",
       "    <tr>\n",
       "      <td>6</td>\n",
       "      <td>хуйня</td>\n",
       "      <td>13</td>\n",
       "    </tr>\n",
       "    <tr>\n",
       "      <td>7</td>\n",
       "      <td>ахуел</td>\n",
       "      <td>11</td>\n",
       "    </tr>\n",
       "    <tr>\n",
       "      <td>8</td>\n",
       "      <td>похуй</td>\n",
       "      <td>11</td>\n",
       "    </tr>\n",
       "    <tr>\n",
       "      <td>9</td>\n",
       "      <td>хуйню</td>\n",
       "      <td>7</td>\n",
       "    </tr>\n",
       "    <tr>\n",
       "      <td>10</td>\n",
       "      <td>пиздос</td>\n",
       "      <td>6</td>\n",
       "    </tr>\n",
       "    <tr>\n",
       "      <td>11</td>\n",
       "      <td>ахуе</td>\n",
       "      <td>6</td>\n",
       "    </tr>\n",
       "    <tr>\n",
       "      <td>12</td>\n",
       "      <td>хуету</td>\n",
       "      <td>6</td>\n",
       "    </tr>\n",
       "    <tr>\n",
       "      <td>13</td>\n",
       "      <td>нехуй</td>\n",
       "      <td>5</td>\n",
       "    </tr>\n",
       "    <tr>\n",
       "      <td>14</td>\n",
       "      <td>ахуенный</td>\n",
       "      <td>5</td>\n",
       "    </tr>\n",
       "    <tr>\n",
       "      <td>15</td>\n",
       "      <td>пизды</td>\n",
       "      <td>5</td>\n",
       "    </tr>\n",
       "    <tr>\n",
       "      <td>16</td>\n",
       "      <td>ахуенно</td>\n",
       "      <td>5</td>\n",
       "    </tr>\n",
       "    <tr>\n",
       "      <td>17</td>\n",
       "      <td>ебаные</td>\n",
       "      <td>5</td>\n",
       "    </tr>\n",
       "    <tr>\n",
       "      <td>18</td>\n",
       "      <td>ебаная</td>\n",
       "      <td>5</td>\n",
       "    </tr>\n",
       "    <tr>\n",
       "      <td>19</td>\n",
       "      <td>вахуе</td>\n",
       "      <td>4</td>\n",
       "    </tr>\n",
       "  </tbody>\n",
       "</table>\n",
       "</div>"
      ],
      "text/plain": [
       "           0   1\n",
       "0      ебать  75\n",
       "1     пиздец  66\n",
       "2      нахуй  32\n",
       "3        хуй  30\n",
       "4      пизда  24\n",
       "5     ахуеть  16\n",
       "6      хуйня  13\n",
       "7      ахуел  11\n",
       "8      похуй  11\n",
       "9      хуйню   7\n",
       "10    пиздос   6\n",
       "11      ахуе   6\n",
       "12     хуету   6\n",
       "13     нехуй   5\n",
       "14  ахуенный   5\n",
       "15     пизды   5\n",
       "16   ахуенно   5\n",
       "17    ебаные   5\n",
       "18    ебаная   5\n",
       "19     вахуе   4"
      ]
     },
     "metadata": {},
     "output_type": "display_data"
    },
    {
     "name": "stdout",
     "output_type": "stream",
     "text": [
      "\n",
      "\n",
      "Общий процент мата в чате:\n",
      "1.8766\n"
     ]
    }
   ],
   "source": [
    "print('Топ 20 слов используемых в чате, длинее 3 букв:')\n",
    "display(pd.DataFrame(words_dict.most_common(20)))\n",
    "print('\\n')\n",
    "print('Топ 20 матерных слов: \\n')\n",
    "display(pd.DataFrame(swears_dict.most_common(20)))\n",
    "print('\\n')\n",
    "print('Общий процент мата в чате:')\n",
    "print(round((df['swears_num'].sum() / df['words_num'].sum()) * 100, 4))"
   ]
  },
  {
   "cell_type": "markdown",
   "metadata": {},
   "source": [
    "### Пробуем сгенерировать 20 сообщений моделью на цепях маркова обученной на сообщениях самого активного автора."
   ]
  },
  {
   "cell_type": "code",
   "execution_count": 18,
   "metadata": {},
   "outputs": [
    {
     "name": "stdout",
     "output_type": "stream",
     "text": [
      "Авторство:  Витек \n",
      "\n",
      "К матушке на работу ипаную\n",
      "В смысле че за Масон! Уже настораживает\n",
      "Справки о доходах в собес принесли, у нас на риижте сегодня камаз прям на кольце сгорел к чертям\n",
      "Мишаня, а у тебя утро😅😅🤣\n",
      "Мне в любое время😅\n",
      "Ебать уже люди за покупками приебошили в лерую в 7 утра уже очередь\n",
      "Я в нее лет 13 назад в него играл крайний раз\n",
      "Антоха, че за тигр?😅👍💪\n",
      "Там просто спор что были ли когда нибудь боинги 747?\n",
      "Эдик, а ты в эти выходные уезжаешь?\n",
      "Лекс есть во всех клубах есть 1.6\n",
      "Вы вопросы задаете, я как псина вспотел. Малого накатал\n",
      "Да она уже не играю\n",
      "Ага, хер там че надо было?\n",
      "А начал я в ахуе😅😅😅\n",
      "То у него ранг блжество и там химией чистили\n",
      "Ну синька это как ЭКО\n",
      "Ну там я думаю можно\n",
      "Мишаня, а че на ленина щас\n",
      "Так а че с собакой???🤣🤣🤣\n",
      "Севка, ты ж только сказал, что сосок много\n"
     ]
    }
   ],
   "source": [
    "### procesing some markov chains generated messages\n",
    "### trying to generate 20 messages\n",
    "def shit_detector(string):\n",
    "    if (string[0] == '<' and string[-1] == '>') or \\\n",
    "        'http' in string:\n",
    "        return False\n",
    "    else:\n",
    "        return True\n",
    "corpus = df[(df['author'] == most_active) & (df['text'].apply(shit_detector))]['text']\n",
    "\n",
    "corpus = '\\n'.join(corpus.tolist())\n",
    "\n",
    "text_model = markovify.NewlineText(corpus, well_formed=False)\n",
    "\n",
    "number_of_lines = 20\n",
    "count = 0\n",
    "\n",
    "print('Авторство: ', most_active, '\\n')\n",
    "\n",
    "while True:\t### Skiping None values\n",
    "\toutput = text_model.make_sentence()\n",
    "\tif output != None:\n",
    "\t\tprint(output)\n",
    "\t\tif count == number_of_lines:\n",
    "\t\t\tbreak\n",
    "\t\telse:\n",
    "\t\t\tcount += 1"
   ]
  }
 ],
 "metadata": {
  "kernelspec": {
   "display_name": "Python 3",
   "language": "python",
   "name": "python3"
  },
  "language_info": {
   "codemirror_mode": {
    "name": "ipython",
    "version": 3
   },
   "file_extension": ".py",
   "mimetype": "text/x-python",
   "name": "python",
   "nbconvert_exporter": "python",
   "pygments_lexer": "ipython3",
   "version": "3.7.4"
  }
 },
 "nbformat": 4,
 "nbformat_minor": 2
}
