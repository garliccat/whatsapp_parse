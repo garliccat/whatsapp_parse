{
 "cells": [
  {
   "cell_type": "markdown",
   "metadata": {},
   "source": [
    "## WhatsApp chat analyzer\n",
    "### Dataset must be exported from WhatsApp mobile app (android version was used)\n",
    "Scans the chat and shows dependencies.   \n",
    "Analyze the chat for swear words and its usage.   \n",
    "The way to export data from app:\n",
    "\n",
    "1. Menu in chat (or group) main screen (three dots in the upper-right corner)\n",
    "![](images/1.png)\n",
    "\n",
    "2. Tap \"More\"\n",
    "![](images/2.png)\n",
    "\n",
    "3. Tap \"Export chat\"\n",
    "![](images/3.png)\n",
    "\n",
    "4. Without media.\n",
    "![](images/4.png)\n",
    "\n",
    "Then put the exported file into dataset folder.\n",
    "swears.txt file - swear words dictionary. Feel free to add your own words."
   ]
  },
  {
   "cell_type": "code",
   "execution_count": 1,
   "metadata": {},
   "outputs": [],
   "source": [
    "%matplotlib inline\n",
    "\n",
    "import matplotlib.pyplot as plt\n",
    "from datetime import datetime as dt\n",
    "import numpy as np\n",
    "import pandas as pd\n",
    "import markovify\n",
    "import re\n",
    "import glob\n",
    "import string\n",
    "from IPython.display import display, HTML\n",
    "\n",
    "### opening swears dictionary and log dataset\n",
    "swears = open('dataset/swears.txt', 'r', encoding=\"utf-8\")\n",
    "swears = swears.read()\n",
    "swears = swears.split('\\n')\n",
    "\n",
    "f = open(glob.glob('dataset/*WhatsApp*.txt')[0], 'r', encoding=\"utf-8\")\n",
    "f = f.read()\n",
    "f = f.replace('\\n', ' ')\n",
    "\n",
    "### initializing global variables\n",
    "swears_dict = {}\n",
    "words_dict = {}\n",
    "plt.style.use('ggplot')\n"
   ]
  },
  {
   "cell_type": "markdown",
   "metadata": {},
   "source": [
    "Defining some handy fuctions, which we will use later.   \n",
    "Words counter   \n",
    "Swear words only counter   \n",
    "Swear words library collector   \n",
    "Overall words dictionary collector"
   ]
  },
  {
   "cell_type": "code",
   "execution_count": 2,
   "metadata": {},
   "outputs": [],
   "source": [
    "def words_count(input_string):\n",
    "\t### function returns the number of words in input_string\n",
    "\tif (input_string[0] != '<' and input_string[-1] != '>'):\n",
    "\t\treturn len(input_string.split())\n",
    "\n",
    "def swear_count(input_string):\n",
    "\t### function returns the number of swear words found in input input_string\n",
    "\tinput_string = input_string.lower()\n",
    "\tcount = 0\n",
    "\tfor word in swears:\n",
    "\t\tcount += input_string.count(word)\n",
    "\treturn count\n",
    "\n",
    "def swears_collect(input_string):\n",
    "\t### function for adding swear words to global swear_dict dictionary from input input_string\n",
    "\tinput_string = input_string.lower().split()\n",
    "\tfor word in input_string:\n",
    "\t\tword = word.translate(str.maketrans('', '', string.punctuation + '«»'))\n",
    "\t\tfor swear in swears:\n",
    "\t\t\tif swear in word:\n",
    "\t\t\t\tif word in swears_dict:\n",
    "\t\t\t\t\tswears_dict[word] += 1\n",
    "\t\t\t\telse:\n",
    "\t\t\t\t\tswears_dict[word] = 1\n",
    "\n",
    "def to_dict(input_string):\n",
    "\t### function for adding all words from input input_string to global words_dict dictionary\n",
    "\tinput_string = input_string.lower()\n",
    "\tif (input_string[0] != '<' and input_string[-1] != '>'):\n",
    "\t\tinput_string = input_string.split()\n",
    "\t\tfor word in input_string:\n",
    "\t\t\tword = word.translate(str.maketrans('', '', string.punctuation + '«»'))\n",
    "\t\t\tif (word in words_dict and len(word) > 3):\n",
    "\t\t\t\twords_dict[word] += 1\n",
    "\t\t\telse:\n",
    "\t\t\t\twords_dict[word] = 1"
   ]
  },
  {
   "cell_type": "markdown",
   "metadata": {},
   "source": [
    "Process our WhatsApp exported data through the parser. Using regualar expression fetching message patterns with date/author/text sctructure.   \n",
    "Skiping service messages.   \n",
    "Printing first 5 rows of dataset."
   ]
  },
  {
   "cell_type": "code",
   "execution_count": 3,
   "metadata": {},
   "outputs": [
    {
     "data": {
      "text/html": [
       "<div>\n",
       "<style scoped>\n",
       "    .dataframe tbody tr th:only-of-type {\n",
       "        vertical-align: middle;\n",
       "    }\n",
       "\n",
       "    .dataframe tbody tr th {\n",
       "        vertical-align: top;\n",
       "    }\n",
       "\n",
       "    .dataframe thead th {\n",
       "        text-align: right;\n",
       "    }\n",
       "</style>\n",
       "<table border=\"1\" class=\"dataframe\">\n",
       "  <thead>\n",
       "    <tr style=\"text-align: right;\">\n",
       "      <th></th>\n",
       "      <th>author</th>\n",
       "      <th>text</th>\n",
       "    </tr>\n",
       "    <tr>\n",
       "      <th>timestamp</th>\n",
       "      <th></th>\n",
       "      <th></th>\n",
       "    </tr>\n",
       "  </thead>\n",
       "  <tbody>\n",
       "    <tr>\n",
       "      <td>2017-09-05 14:30:00</td>\n",
       "      <td>Армен</td>\n",
       "      <td>👍🏻....красавчик!....первый додумался)</td>\n",
       "    </tr>\n",
       "    <tr>\n",
       "      <td>2017-09-05 14:31:00</td>\n",
       "      <td>Николай Скопцов</td>\n",
       "      <td>Была группа</td>\n",
       "    </tr>\n",
       "    <tr>\n",
       "      <td>2017-09-05 14:31:00</td>\n",
       "      <td>Николай Скопцов</td>\n",
       "      <td>Но ее засрали</td>\n",
       "    </tr>\n",
       "    <tr>\n",
       "      <td>2017-09-05 14:31:00</td>\n",
       "      <td>Николай Скопцов</td>\n",
       "      <td>Сюда ток рабочие моменты</td>\n",
       "    </tr>\n",
       "    <tr>\n",
       "      <td>2017-09-05 14:41:00</td>\n",
       "      <td>Николай Скопцов</td>\n",
       "      <td>И кстати, что с мазином?</td>\n",
       "    </tr>\n",
       "  </tbody>\n",
       "</table>\n",
       "</div>"
      ],
      "text/plain": [
       "                              author                                   text\n",
       "timestamp                                                                  \n",
       "2017-09-05 14:30:00            Армен  👍🏻....красавчик!....первый додумался)\n",
       "2017-09-05 14:31:00  Николай Скопцов                            Была группа\n",
       "2017-09-05 14:31:00  Николай Скопцов                          Но ее засрали\n",
       "2017-09-05 14:31:00  Николай Скопцов               Сюда ток рабочие моменты\n",
       "2017-09-05 14:41:00  Николай Скопцов               И кстати, что с мазином?"
      ]
     },
     "metadata": {},
     "output_type": "display_data"
    }
   ],
   "source": [
    "##### Parcing the raw dataset, cleaning it.\n",
    "pattern = re.compile(r'(?P<timestamp>\\d\\d.\\d\\d.\\d\\d\\d\\d, \\d\\d:\\d\\d) - (?!\\u200e)(?P<author>.*?): (?P<text>.*?)(?=( \\d\\d.\\d\\d.\\d\\d\\d\\d, \\d\\d:\\d\\d| $))')\n",
    "match = re.findall(pattern, f)\n",
    "\n",
    "df = pd.DataFrame.from_dict(match)\n",
    "df = df.iloc[1:, 0:3]\n",
    "df.columns=['timestamp', 'author', 'text']\n",
    "df['timestamp'] = pd.to_datetime(df['timestamp'], format='%d.%m.%Y, %H:%M')\n",
    "df.set_index('timestamp', inplace=True)\n",
    "\n",
    "display(df.head())"
   ]
  },
  {
   "cell_type": "markdown",
   "metadata": {},
   "source": [
    "Adding additional columns.   \n",
    "swears_num - swear words num   \n",
    "words_num - overall message words num   \n",
    "media - message type (text or media)   \n",
    "hour - message posting hour of the day"
   ]
  },
  {
   "cell_type": "code",
   "execution_count": 4,
   "metadata": {},
   "outputs": [],
   "source": [
    "#### ADDING COLUMNS\n",
    "\n",
    "### adding column with swears number in each message\n",
    "df['swears_num'] = df['text'].map(swear_count)\n",
    "# df.sort_values('swears_num', inplace=True)\n",
    "\n",
    "### adding column with all words in message number\n",
    "df['words_num'] = df['text'].map(words_count)\n",
    "\n",
    "### adding column with boolean whether the message is just a meme or video\n",
    "df['media'] = df['text'].map(lambda x: 'Media' if (x[0] == '<' and x[-1] == '>') else 'Text')\n",
    "\n",
    "### adding 'hour' column for further grouping\n",
    "df['hour'] = df.index.hour"
   ]
  },
  {
   "cell_type": "markdown",
   "metadata": {},
   "source": [
    "Overall messages count:"
   ]
  },
  {
   "cell_type": "code",
   "execution_count": 5,
   "metadata": {},
   "outputs": [
    {
     "name": "stdout",
     "output_type": "stream",
     "text": [
      "Overall messages number: 7212\n"
     ]
    }
   ],
   "source": [
    "### printing the number of messages\n",
    "print('Overall messages number: {}'.format(df.shape[0]))"
   ]
  },
  {
   "cell_type": "markdown",
   "metadata": {},
   "source": [
    "Number of authors and authors names list:"
   ]
  },
  {
   "cell_type": "code",
   "execution_count": 6,
   "metadata": {},
   "outputs": [
    {
     "name": "stdout",
     "output_type": "stream",
     "text": [
      "There are 4 authors in chat/group, they are: \n",
      "['Армен', 'Николай Скопцов', 'Anton Petkov', 'Денис Титов']\n"
     ]
    }
   ],
   "source": [
    "### building the list of authors, printing it\n",
    "authors = df['author'].unique().tolist()\n",
    "authors_num = len(authors)\n",
    "print('There are {} authors in chat/group, they are: \\n{}'.format(authors_num, authors))"
   ]
  },
  {
   "cell_type": "markdown",
   "metadata": {},
   "source": [
    "Very first message date (chat creation), last message, chat age:"
   ]
  },
  {
   "cell_type": "code",
   "execution_count": 7,
   "metadata": {},
   "outputs": [
    {
     "name": "stdout",
     "output_type": "stream",
     "text": [
      "First message date: 2017-09-05 14:30:00\n",
      "Last message date: 2019-10-07 21:14:00\n",
      "Chat age in days: 762\n",
      "Chat age in years: 2.09\n"
     ]
    }
   ],
   "source": [
    "### printing first message, last message, chat age\n",
    "print('First message date: {}'.format(min(df.index)))\n",
    "print('Last message date: {}'.format(max(df.index)))\n",
    "days = int((max(df.index) - min(df.index)).days)\n",
    "print('Chat age in days: {}\\nChat age in years: {:.2f}'.format(days, days / 365))\n",
    "avg_msg_hour = df.groupby('hour').count()['text'] / days"
   ]
  },
  {
   "cell_type": "markdown",
   "metadata": {},
   "source": [
    "Creating swears dictinary and words dictionary:"
   ]
  },
  {
   "cell_type": "code",
   "execution_count": 8,
   "metadata": {},
   "outputs": [],
   "source": [
    "### buildig a dict (words_dict) with words from chat (text column). Not adding a column, but collecting data\n",
    "df['text'].map(to_dict)\n",
    "words_dict = sorted(words_dict.items(), key=lambda x: x[1], reverse=True)\n",
    "\n",
    "### building a dict of swears usage (swears_dict) from words_dict. Not adding a column, but collecting data\n",
    "df['text'].map(swears_collect)\n",
    "swears_dict = sorted(swears_dict.items(), key=lambda x: x[1], reverse=True)"
   ]
  },
  {
   "cell_type": "markdown",
   "metadata": {},
   "source": [
    "One more DataFrame with number of messages in a week:"
   ]
  },
  {
   "cell_type": "code",
   "execution_count": 9,
   "metadata": {},
   "outputs": [],
   "source": [
    "### calculating weekly messages number for alltime\n",
    "msg_weekly = df.resample('W').count()['text']"
   ]
  },
  {
   "cell_type": "markdown",
   "metadata": {},
   "source": [
    "Calculating the swears percentage for every author:\n",
    "First table is \"Words total\" vs. \"Swear words\"\n",
    "Second is the percent of swear words in author's messages."
   ]
  },
  {
   "cell_type": "code",
   "execution_count": 10,
   "metadata": {},
   "outputs": [
    {
     "data": {
      "text/html": [
       "<div>\n",
       "<style scoped>\n",
       "    .dataframe tbody tr th:only-of-type {\n",
       "        vertical-align: middle;\n",
       "    }\n",
       "\n",
       "    .dataframe tbody tr th {\n",
       "        vertical-align: top;\n",
       "    }\n",
       "\n",
       "    .dataframe thead th {\n",
       "        text-align: right;\n",
       "    }\n",
       "</style>\n",
       "<table border=\"1\" class=\"dataframe\">\n",
       "  <thead>\n",
       "    <tr style=\"text-align: right;\">\n",
       "      <th></th>\n",
       "      <th>words_num</th>\n",
       "      <th>swears_num</th>\n",
       "    </tr>\n",
       "    <tr>\n",
       "      <th>author</th>\n",
       "      <th></th>\n",
       "      <th></th>\n",
       "    </tr>\n",
       "  </thead>\n",
       "  <tbody>\n",
       "    <tr>\n",
       "      <td>Anton Petkov</td>\n",
       "      <td>3689.0</td>\n",
       "      <td>58</td>\n",
       "    </tr>\n",
       "    <tr>\n",
       "      <td>Армен</td>\n",
       "      <td>36129.0</td>\n",
       "      <td>225</td>\n",
       "    </tr>\n",
       "    <tr>\n",
       "      <td>Денис Титов</td>\n",
       "      <td>7976.0</td>\n",
       "      <td>73</td>\n",
       "    </tr>\n",
       "    <tr>\n",
       "      <td>Николай Скопцов</td>\n",
       "      <td>8401.0</td>\n",
       "      <td>84</td>\n",
       "    </tr>\n",
       "  </tbody>\n",
       "</table>\n",
       "</div>"
      ],
      "text/plain": [
       "                 words_num  swears_num\n",
       "author                                \n",
       "Anton Petkov        3689.0          58\n",
       "Армен              36129.0         225\n",
       "Денис Титов         7976.0          73\n",
       "Николай Скопцов     8401.0          84"
      ]
     },
     "metadata": {},
     "output_type": "display_data"
    },
    {
     "name": "stdout",
     "output_type": "stream",
     "text": [
      "Most active author: Армен\n",
      "\n",
      "Swear words using percentage:\n",
      "author\n",
      "Anton Petkov       1.572242\n",
      "Николай Скопцов    0.999881\n",
      "Денис Титов        0.915246\n",
      "Армен              0.622768\n",
      "Name: percent, dtype: float64\n"
     ]
    }
   ],
   "source": [
    "### calculating swear words usage for each author\n",
    "words_swears_users = df.groupby('author').sum()[['words_num', 'swears_num']]\n",
    "most_active = df.groupby('author').count()['text'].sort_values(ascending=False).index[0]\n",
    "display(words_swears_users.head())\n",
    "words_swears_users['percent'] = (words_swears_users['swears_num'] / words_swears_users['words_num']) * 100\n",
    "words_swears_users = words_swears_users.sort_values(by='percent', ascending=False)\n",
    "print('Most active author: {}'.format(most_active))\n",
    "print('\\nSwear words using percentage:')\n",
    "print(words_swears_users['percent'].head())"
   ]
  },
  {
   "cell_type": "markdown",
   "metadata": {},
   "source": [
    "Pearson's correlation matrix calculation for every author. Sorting the top coff up. In this case - the higher the coff is - the higher probability of these two authors are texting with each other, non with the others."
   ]
  },
  {
   "cell_type": "code",
   "execution_count": 11,
   "metadata": {},
   "outputs": [
    {
     "name": "stdout",
     "output_type": "stream",
     "text": [
      "\n",
      "\n",
      "Top authors with best correlation:\n"
     ]
    },
    {
     "data": {
      "text/plain": [
       "author           author      \n",
       "Денис Титов      Anton Petkov    0.880038\n",
       "Николай Скопцов  Денис Титов     0.876620\n",
       "                 Anton Petkov    0.830202\n",
       "Армен            Anton Petkov    0.689029\n",
       "Николай Скопцов  Армен           0.596165\n",
       "dtype: float64"
      ]
     },
     "metadata": {},
     "output_type": "display_data"
    }
   ],
   "source": [
    "### calculating the pearsons correlation matrix for each pair of authors, fetching the best of them\n",
    "corr_matrix = df.groupby(['hour', 'author']).count()['text']\n",
    "print('\\n')\n",
    "corr_matrix = corr_matrix.unstack(level=-1, fill_value=0)\n",
    "corr_matrix = corr_matrix.corr()\n",
    "corr_matrix.replace(to_replace=1, value=0, inplace=True)\n",
    "corr_matrix = corr_matrix.stack().sort_values(ascending=False).drop_duplicates()\n",
    "print('Top authors with best correlation:')\n",
    "display(corr_matrix.head())"
   ]
  },
  {
   "cell_type": "markdown",
   "metadata": {},
   "source": [
    "Plotting time!   \n",
    "First chart - overall messages number per author.   \n",
    "In case of authors > 10 - shows only first 10 of them, sorting top of them. Otherwise it will be a mess."
   ]
  },
  {
   "cell_type": "code",
   "execution_count": 12,
   "metadata": {
    "scrolled": true
   },
   "outputs": [
    {
     "data": {
      "image/png": "[encoded data removed]",
      "text/plain": [
       "<Figure size 432x288 with 1 Axes>"
      ]
     },
     "metadata": {
      "needs_background": "light"
     },
     "output_type": "display_data"
    }
   ],
   "source": [
    "##### PLOTTING PART\n",
    "### plots media/text percentage\n",
    "\n",
    "### calculating and plotting overall authors messages number\n",
    "authors_count = df.groupby(['author']).count()['text']\n",
    "authors_count = authors_count.sort_values(ascending=False)\n",
    "if authors_num > 10:\n",
    "\ttitle = 'Top 10 authors messages number'\n",
    "\tauthors_count = authors_count.iloc[:10]\n",
    "else:\n",
    "\ttitle = 'Authors messages number'\n",
    "ax = authors_count.plot(kind='bar', title=title, alpha=0.75)\n",
    "ax.set_ylabel('Message number')\n",
    "ax.set_xlabel('Author')\n",
    "for i in ax.patches:\n",
    "\tax.text(i.get_x(), i.get_height(), str(int(i.get_height())))\n",
    "plt.setp(ax.get_xticklabels(), rotation=30, horizontalalignment='right') # rotating long xticks and make them confy to read\n",
    "plt.tight_layout()\n",
    "plt.show()"
   ]
  },
  {
   "cell_type": "markdown",
   "metadata": {},
   "source": [
    "Chart (top-5 also) of text/media messages authors. You can see the preferences of each of them.   \n",
    "Some like to write, some like to send nudes and kittens.   "
   ]
  },
  {
   "cell_type": "code",
   "execution_count": 13,
   "metadata": {},
   "outputs": [
    {
     "data": {
      "text/html": [
       "<div>\n",
       "<style scoped>\n",
       "    .dataframe tbody tr th:only-of-type {\n",
       "        vertical-align: middle;\n",
       "    }\n",
       "\n",
       "    .dataframe tbody tr th {\n",
       "        vertical-align: top;\n",
       "    }\n",
       "\n",
       "    .dataframe thead th {\n",
       "        text-align: right;\n",
       "    }\n",
       "</style>\n",
       "<table border=\"1\" class=\"dataframe\">\n",
       "  <thead>\n",
       "    <tr style=\"text-align: right;\">\n",
       "      <th>media</th>\n",
       "      <th>Media</th>\n",
       "      <th>Text</th>\n",
       "    </tr>\n",
       "    <tr>\n",
       "      <th>author</th>\n",
       "      <th></th>\n",
       "      <th></th>\n",
       "    </tr>\n",
       "  </thead>\n",
       "  <tbody>\n",
       "    <tr>\n",
       "      <td>Николай Скопцов</td>\n",
       "      <td>273</td>\n",
       "      <td>1624</td>\n",
       "    </tr>\n",
       "    <tr>\n",
       "      <td>Армен</td>\n",
       "      <td>1798</td>\n",
       "      <td>1165</td>\n",
       "    </tr>\n",
       "    <tr>\n",
       "      <td>Денис Титов</td>\n",
       "      <td>450</td>\n",
       "      <td>962</td>\n",
       "    </tr>\n",
       "    <tr>\n",
       "      <td>Anton Petkov</td>\n",
       "      <td>468</td>\n",
       "      <td>472</td>\n",
       "    </tr>\n",
       "  </tbody>\n",
       "</table>\n",
       "</div>"
      ],
      "text/plain": [
       "media            Media  Text\n",
       "author                      \n",
       "Николай Скопцов    273  1624\n",
       "Армен             1798  1165\n",
       "Денис Титов        450   962\n",
       "Anton Petkov       468   472"
      ]
     },
     "metadata": {},
     "output_type": "display_data"
    },
    {
     "data": {
      "image/png": "[encoded data removed]",
      "text/plain": [
       "<Figure size 432x288 with 1 Axes>"
      ]
     },
     "metadata": {
      "needs_background": "light"
     },
     "output_type": "display_data"
    }
   ],
   "source": [
    "### calculating media/text ratio per author and plotting it\n",
    "medias_per_capita = df.groupby(['author', 'media']).count()['text']\n",
    "medias_per_capita = medias_per_capita.unstack(level=1)\n",
    "medias_per_capita = medias_per_capita.sort_values(by='Text', ascending=False)\n",
    "if authors_num > 10:\n",
    "\tmedias_per_capita = medias_per_capita.iloc[:10, :]\n",
    "\ttitle = 'Top 10 media/text per author'\n",
    "else:\n",
    "\ttitle = 'Text/media per author'\n",
    "\n",
    "display(medias_per_capita.head())\n",
    "\n",
    "ax = medias_per_capita.plot(kind='bar', title=title, alpha=0.75)\n",
    "ax.set_ylabel('Messages number')\n",
    "ax.set_xlabel('Authors')\n",
    "for i in ax.patches:\n",
    "\tax.text(i.get_x(), i.get_height(), str(int(i.get_height())))\n",
    "plt.setp(ax.get_xticklabels(), rotation=30, horizontalalignment='right') # rotating long xticks and make them confy to read\n",
    "plt.tight_layout()\n",
    "plt.show()"
   ]
  },
  {
   "cell_type": "markdown",
   "metadata": {},
   "source": [
    "Overall chat activity chart: you might notice the main holidays or debates."
   ]
  },
  {
   "cell_type": "code",
   "execution_count": 14,
   "metadata": {},
   "outputs": [
    {
     "data": {
      "image/png": "[encoded data removed]",
      "text/plain": [
       "<Figure size 432x288 with 1 Axes>"
      ]
     },
     "metadata": {
      "needs_background": "light"
     },
     "output_type": "display_data"
    }
   ],
   "source": [
    "### plotting overall messages history\n",
    "msg_weekly.plot(kind='line', title='Messages chronology', alpha=0.75)\n",
    "plt.xlabel('Date')\n",
    "plt.ylabel('Messages number')\n",
    "plt.xticks(rotation=0)\n",
    "plt.tight_layout()\n",
    "plt.show()"
   ]
  },
  {
   "cell_type": "markdown",
   "metadata": {},
   "source": [
    "Chart showing using medias vs. text:"
   ]
  },
  {
   "cell_type": "code",
   "execution_count": 15,
   "metadata": {},
   "outputs": [
    {
     "name": "stdout",
     "output_type": "stream",
     "text": [
      "media\n",
      "Media    2989\n",
      "Text     4223\n",
      "Name: text, dtype: int64\n"
     ]
    },
    {
     "data": {
      "image/png": "[encoded data removed]",
      "text/plain": [
       "<Figure size 432x288 with 1 Axes>"
      ]
     },
     "metadata": {
      "needs_background": "light"
     },
     "output_type": "display_data"
    }
   ],
   "source": [
    "medias = df.groupby(['media']).count()['text']\n",
    "print(medias)\n",
    "medias.plot(kind='bar', title='Text vs. Media ratio', width=0.20)\n",
    "plt.xlabel('Message type')\n",
    "plt.ylabel('Number of messages')\n",
    "plt.xticks(rotation=0)\n",
    "plt.tight_layout()\n",
    "plt.show()"
   ]
  },
  {
   "cell_type": "markdown",
   "metadata": {},
   "source": [
    "Chart with average messages number in particular hous of the day:\n",
    "It's better to ask your questions in top hours, the probability of recieving the answer fast will be higher."
   ]
  },
  {
   "cell_type": "code",
   "execution_count": 16,
   "metadata": {},
   "outputs": [
    {
     "data": {
      "image/png": "[encoded data removed]",
      "text/plain": [
       "<Figure size 432x288 with 1 Axes>"
      ]
     },
     "metadata": {
      "needs_background": "light"
     },
     "output_type": "display_data"
    }
   ],
   "source": [
    "avg_msg_hour.plot(kind='bar', title='Avarage messages in hour', alpha=0.75, )\n",
    "plt.xlabel('Hour of the day')\n",
    "plt.ylabel('Messages number')\n",
    "plt.xticks(rotation=0)\n",
    "plt.tight_layout()\n",
    "plt.show()"
   ]
  },
  {
   "cell_type": "markdown",
   "metadata": {},
   "source": [
    "Top 20 words used in chat: (limited with not-less then 3 characters words.   \n",
    "Top 20 swear words used in chat.   \n",
    "\n",
    "|Word|Number of occurences|\n",
    "|---|---|\n",
    "|   |   |"
   ]
  },
  {
   "cell_type": "code",
   "execution_count": 17,
   "metadata": {},
   "outputs": [
    {
     "name": "stdout",
     "output_type": "stream",
     "text": [
      "Top 20 words used in chat:\n"
     ]
    },
    {
     "data": {
      "text/html": [
       "<div>\n",
       "<style scoped>\n",
       "    .dataframe tbody tr th:only-of-type {\n",
       "        vertical-align: middle;\n",
       "    }\n",
       "\n",
       "    .dataframe tbody tr th {\n",
       "        vertical-align: top;\n",
       "    }\n",
       "\n",
       "    .dataframe thead th {\n",
       "        text-align: right;\n",
       "    }\n",
       "</style>\n",
       "<table border=\"1\" class=\"dataframe\">\n",
       "  <thead>\n",
       "    <tr style=\"text-align: right;\">\n",
       "      <th></th>\n",
       "      <th>0</th>\n",
       "      <th>1</th>\n",
       "    </tr>\n",
       "  </thead>\n",
       "  <tbody>\n",
       "    <tr>\n",
       "      <td>0</td>\n",
       "      <td>меня</td>\n",
       "      <td>166</td>\n",
       "    </tr>\n",
       "    <tr>\n",
       "      <td>1</td>\n",
       "      <td>если</td>\n",
       "      <td>158</td>\n",
       "    </tr>\n",
       "    <tr>\n",
       "      <td>2</td>\n",
       "      <td>только</td>\n",
       "      <td>142</td>\n",
       "    </tr>\n",
       "    <tr>\n",
       "      <td>3</td>\n",
       "      <td>есть</td>\n",
       "      <td>113</td>\n",
       "    </tr>\n",
       "    <tr>\n",
       "      <td>4</td>\n",
       "      <td>когда</td>\n",
       "      <td>112</td>\n",
       "    </tr>\n",
       "    <tr>\n",
       "      <td>5</td>\n",
       "      <td>тебя</td>\n",
       "      <td>102</td>\n",
       "    </tr>\n",
       "    <tr>\n",
       "      <td>6</td>\n",
       "      <td>надо</td>\n",
       "      <td>98</td>\n",
       "    </tr>\n",
       "    <tr>\n",
       "      <td>7</td>\n",
       "      <td>будет</td>\n",
       "      <td>94</td>\n",
       "    </tr>\n",
       "    <tr>\n",
       "      <td>8</td>\n",
       "      <td>говорит</td>\n",
       "      <td>82</td>\n",
       "    </tr>\n",
       "    <tr>\n",
       "      <td>9</td>\n",
       "      <td>тоже</td>\n",
       "      <td>82</td>\n",
       "    </tr>\n",
       "    <tr>\n",
       "      <td>10</td>\n",
       "      <td>тебе</td>\n",
       "      <td>81</td>\n",
       "    </tr>\n",
       "    <tr>\n",
       "      <td>11</td>\n",
       "      <td>было</td>\n",
       "      <td>78</td>\n",
       "    </tr>\n",
       "    <tr>\n",
       "      <td>12</td>\n",
       "      <td>чтобы</td>\n",
       "      <td>74</td>\n",
       "    </tr>\n",
       "    <tr>\n",
       "      <td>13</td>\n",
       "      <td>сегодня</td>\n",
       "      <td>73</td>\n",
       "    </tr>\n",
       "    <tr>\n",
       "      <td>14</td>\n",
       "      <td>очень</td>\n",
       "      <td>73</td>\n",
       "    </tr>\n",
       "    <tr>\n",
       "      <td>15</td>\n",
       "      <td>после</td>\n",
       "      <td>70</td>\n",
       "    </tr>\n",
       "    <tr>\n",
       "      <td>16</td>\n",
       "      <td>может</td>\n",
       "      <td>68</td>\n",
       "    </tr>\n",
       "    <tr>\n",
       "      <td>17</td>\n",
       "      <td>можно</td>\n",
       "      <td>66</td>\n",
       "    </tr>\n",
       "    <tr>\n",
       "      <td>18</td>\n",
       "      <td>теперь</td>\n",
       "      <td>61</td>\n",
       "    </tr>\n",
       "    <tr>\n",
       "      <td>19</td>\n",
       "      <td>жена</td>\n",
       "      <td>60</td>\n",
       "    </tr>\n",
       "  </tbody>\n",
       "</table>\n",
       "</div>"
      ],
      "text/plain": [
       "          0    1\n",
       "0      меня  166\n",
       "1      если  158\n",
       "2    только  142\n",
       "3      есть  113\n",
       "4     когда  112\n",
       "5      тебя  102\n",
       "6      надо   98\n",
       "7     будет   94\n",
       "8   говорит   82\n",
       "9      тоже   82\n",
       "10     тебе   81\n",
       "11     было   78\n",
       "12    чтобы   74\n",
       "13  сегодня   73\n",
       "14    очень   73\n",
       "15    после   70\n",
       "16    может   68\n",
       "17    можно   66\n",
       "18   теперь   61\n",
       "19     жена   60"
      ]
     },
     "metadata": {},
     "output_type": "display_data"
    },
    {
     "name": "stdout",
     "output_type": "stream",
     "text": [
      "\n",
      "\n",
      "Top 20 swear words: \n",
      "\n"
     ]
    },
    {
     "data": {
      "text/html": [
       "<div>\n",
       "<style scoped>\n",
       "    .dataframe tbody tr th:only-of-type {\n",
       "        vertical-align: middle;\n",
       "    }\n",
       "\n",
       "    .dataframe tbody tr th {\n",
       "        vertical-align: top;\n",
       "    }\n",
       "\n",
       "    .dataframe thead th {\n",
       "        text-align: right;\n",
       "    }\n",
       "</style>\n",
       "<table border=\"1\" class=\"dataframe\">\n",
       "  <thead>\n",
       "    <tr style=\"text-align: right;\">\n",
       "      <th></th>\n",
       "      <th>0</th>\n",
       "      <th>1</th>\n",
       "    </tr>\n",
       "  </thead>\n",
       "  <tbody>\n",
       "    <tr>\n",
       "      <td>0</td>\n",
       "      <td>пиздец</td>\n",
       "      <td>51</td>\n",
       "    </tr>\n",
       "    <tr>\n",
       "      <td>1</td>\n",
       "      <td>хуй</td>\n",
       "      <td>43</td>\n",
       "    </tr>\n",
       "    <tr>\n",
       "      <td>2</td>\n",
       "      <td>нахуй</td>\n",
       "      <td>37</td>\n",
       "    </tr>\n",
       "    <tr>\n",
       "      <td>3</td>\n",
       "      <td>говно</td>\n",
       "      <td>16</td>\n",
       "    </tr>\n",
       "    <tr>\n",
       "      <td>4</td>\n",
       "      <td>похуй</td>\n",
       "      <td>15</td>\n",
       "    </tr>\n",
       "    <tr>\n",
       "      <td>5</td>\n",
       "      <td>хуйня</td>\n",
       "      <td>10</td>\n",
       "    </tr>\n",
       "    <tr>\n",
       "      <td>6</td>\n",
       "      <td>пизда</td>\n",
       "      <td>9</td>\n",
       "    </tr>\n",
       "    <tr>\n",
       "      <td>7</td>\n",
       "      <td>пизду</td>\n",
       "      <td>8</td>\n",
       "    </tr>\n",
       "    <tr>\n",
       "      <td>8</td>\n",
       "      <td>ебать</td>\n",
       "      <td>7</td>\n",
       "    </tr>\n",
       "    <tr>\n",
       "      <td>9</td>\n",
       "      <td>пизды</td>\n",
       "      <td>6</td>\n",
       "    </tr>\n",
       "    <tr>\n",
       "      <td>10</td>\n",
       "      <td>говна</td>\n",
       "      <td>6</td>\n",
       "    </tr>\n",
       "    <tr>\n",
       "      <td>11</td>\n",
       "      <td>команда</td>\n",
       "      <td>6</td>\n",
       "    </tr>\n",
       "    <tr>\n",
       "      <td>12</td>\n",
       "      <td>нехуй</td>\n",
       "      <td>6</td>\n",
       "    </tr>\n",
       "    <tr>\n",
       "      <td>13</td>\n",
       "      <td>мудак</td>\n",
       "      <td>5</td>\n",
       "    </tr>\n",
       "    <tr>\n",
       "      <td>14</td>\n",
       "      <td>пиздит</td>\n",
       "      <td>5</td>\n",
       "    </tr>\n",
       "    <tr>\n",
       "      <td>15</td>\n",
       "      <td>говне</td>\n",
       "      <td>5</td>\n",
       "    </tr>\n",
       "    <tr>\n",
       "      <td>16</td>\n",
       "      <td>пиздят</td>\n",
       "      <td>4</td>\n",
       "    </tr>\n",
       "    <tr>\n",
       "      <td>17</td>\n",
       "      <td>пиздос</td>\n",
       "      <td>4</td>\n",
       "    </tr>\n",
       "    <tr>\n",
       "      <td>18</td>\n",
       "      <td>пиздеть</td>\n",
       "      <td>4</td>\n",
       "    </tr>\n",
       "    <tr>\n",
       "      <td>19</td>\n",
       "      <td>пизде</td>\n",
       "      <td>4</td>\n",
       "    </tr>\n",
       "  </tbody>\n",
       "</table>\n",
       "</div>"
      ],
      "text/plain": [
       "          0   1\n",
       "0    пиздец  51\n",
       "1       хуй  43\n",
       "2     нахуй  37\n",
       "3     говно  16\n",
       "4     похуй  15\n",
       "5     хуйня  10\n",
       "6     пизда   9\n",
       "7     пизду   8\n",
       "8     ебать   7\n",
       "9     пизды   6\n",
       "10    говна   6\n",
       "11  команда   6\n",
       "12    нехуй   6\n",
       "13    мудак   5\n",
       "14   пиздит   5\n",
       "15    говне   5\n",
       "16   пиздят   4\n",
       "17   пиздос   4\n",
       "18  пиздеть   4\n",
       "19    пизде   4"
      ]
     },
     "metadata": {},
     "output_type": "display_data"
    },
    {
     "name": "stdout",
     "output_type": "stream",
     "text": [
      "\n",
      "\n",
      "Overall swears in chat percent:\n",
      "0.783\n"
     ]
    }
   ],
   "source": [
    "print('Top 20 words used in chat:')\n",
    "display(pd.DataFrame(words_dict[:20]))\n",
    "print('\\n')\n",
    "print('Top 20 swear words: \\n')\n",
    "display(pd.DataFrame(swears_dict[:20]))\n",
    "print('\\n')\n",
    "print('Overall swears in chat percent:')\n",
    "print(round((df['swears_num'].sum() / df['words_num'].sum()) * 100, 4))"
   ]
  },
  {
   "cell_type": "markdown",
   "metadata": {},
   "source": [
    "#### Trying to generate 20 messages using Markov chaing model trained with messages of the most active author in chat."
   ]
  },
  {
   "cell_type": "code",
   "execution_count": 18,
   "metadata": {},
   "outputs": [
    {
     "name": "stdout",
     "output_type": "stream",
     "text": [
      "Author:  Армен \n",
      "\n",
      "Вот ты быстрый)))... А как дико звучит Сирень Крокодиловна!!\n",
      "Чтобы жить, надо работать. Чтобы жить хорошо, надо придумать что то не нужно лишний раз вмешиваться. Вот затем я и вышла за тебя потому что не нарисовали!» ...🤣\n",
      "Вчера растаможил, обещают сегодня- завтра поставить на платформу и тогда, да +12 дней\n",
      "Фима в поисках пищи и даже попытки утопить несчастную таксу, видимо, в отчаянии, принести её в карман, со словами: - Какая хуйня удобная!\n",
      "От учителя физики Ваня узнал, что Земля вертится. А от учителя труда - на тебе конфетку. хочешь велосипед - на тебе конфетку. хочешь велосипед - на чём именно ...\n",
      "Скажите, а сколько стоит ваша шуба? – робко интересуется монашка. — Одну ночь любви. — … — Если вы не голубой? — Но... эээ... но... Как вы узнали, Холмс?! — Как романтично — роза в банке.\n",
      "Тут подъехало очередное подтверждение того, что взгляд мужчины может фокусироваться на двух вещах одновременно.\n",
      "В тюрьму прибыл проверяющий. После проверки он спрашивает начальника тюрьмы: — Я ваше горе, и я начал крутиться во все дыры. Спрашивает мужик у проходящего: – Позвольте полюбопытствовать, никак не получается сделать. Зайчик говорит: — По билету что-нибудь знаешь? — Не АЛЮМИНЬ тов.прапорщик а АЛЮМИНИЙ — Да-да! АЛЮМИНИЙ! А особо умные будут грузить ЧУГУНИЙ!\n",
      "Экипаж иностранной авиакомпании и спасатели были в списке были все ➖➖➖➖➖ семён уехал в монте карло олег уехал на час-полтора))\n",
      "📣Убойный анекдот👍 Мужик после смерти очутился, а где тут поезд на Одессу? - Уже ушел. - Вот здрасте! А куда?\n",
      "Урок литературы. – Марь Иванна, а что такое в русском языке без всякого африканского акцента: - Дед, мы не продаем! 😂😂😂\n",
      "Поясни, что за погода в этот бюстгальтер и панталоны наличными всего Абрамовича подшить можно. - Изя, на тебя можно положиться? - Я так понимаю, в рот — ЕХАТЬ КУДА?\n",
      "Поясни, что за кодировка?))\n",
      "- И что это для тренировки. Раз он так считает, то я водку и поставьте в холодильник. Но не забудьте добавить в тесто по куску сахара с этого блюдца, чтобы жизнь с Россией. Да ещё и сразу же предадут \"дорогую Россию\", как предали в 1991-м.\n",
      "Я буду твоя владыкино! Я буду его дергать, но очереди говорит...не хочет обещать и не пиз…ди!!\n",
      "На приеме у сексопатолога: - Жена занимается с вами сексом? - Таки да. - И что это для тренировки. Раз он так считает, то я водку и блядей, а с голодухи.\n",
      "6 жестких уроков бизнеса Урок 1 Муж заходит в бар, видит там красивую девушку, подходит к воде и переворачивает одно за одним оба ведра. Сам остается на берегу реки. Рыбинспектор спрашивает у бегущего за поездом и размахивающего руками мужика - Мужчина, Вы, что сапог потеряли? - нет, не могу... Женатый 5 года взял пистолет, положил - Не понял? Это прикол!!! Приколись над своими друзьями😂😂😂😉\n",
      "Скжите дибилам, что нихера не надо, все остальные яйца с таким жаром, что я живу фантазиями. Я чуть с дракона не упал.\n",
      "Коль, Нелли появится, дай знать как обстановка\n",
      "Молдавские строители Щеку и Лупу пришли в бухгалтерию за зарплатой, но бухгалтер ошиблась и в других мусульманских странах А где Вы взялись? — Шоб Вы так жили, как мы дышим, поправок нет??\n",
      "А ты что ему не будет...., типа у него не получиться, пиарится он так!))\n"
     ]
    }
   ],
   "source": [
    "### procesing some markov chains generated messages\n",
    "### trying to generate 20 messages\n",
    "def shit_detector(string):\n",
    "    if (string[0] == '<' and string[-1] == '>') or \\\n",
    "        'http' in string:\n",
    "        return False\n",
    "    else:\n",
    "        return True\n",
    "corpus = df[(df['author'] == most_active) & (df['text'].apply(shit_detector))]['text']\n",
    "\n",
    "corpus = '\\n'.join(corpus.tolist())\n",
    "\n",
    "text_model = markovify.NewlineText(corpus, well_formed=False)\n",
    "\n",
    "number_of_lines = 20\n",
    "count = 0\n",
    "\n",
    "print('Author: ', most_active, '\\n')\n",
    "\n",
    "while True:\t### Skiping None values\n",
    "\toutput = text_model.make_sentence()\n",
    "\tif output != None:\n",
    "\t\tprint(output)\n",
    "\t\tif count == number_of_lines:\n",
    "\t\t\tbreak\n",
    "\t\telse:\n",
    "\t\t\tcount += 1"
   ]
  }
 ],
 "metadata": {
  "kernelspec": {
   "display_name": "Python 3",
   "language": "python",
   "name": "python3"
  },
  "language_info": {
   "codemirror_mode": {
    "name": "ipython",
    "version": 3
   },
   "file_extension": ".py",
   "mimetype": "text/x-python",
   "name": "python",
   "nbconvert_exporter": "python",
   "pygments_lexer": "ipython3",
   "version": "3.7.4"
  }
 },
 "nbformat": 4,
 "nbformat_minor": 2
}
