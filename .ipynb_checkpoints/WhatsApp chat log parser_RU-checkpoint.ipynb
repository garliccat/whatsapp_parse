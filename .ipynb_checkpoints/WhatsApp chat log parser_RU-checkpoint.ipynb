{
 "cells": [
  {
   "cell_type": "markdown",
   "metadata": {},
   "source": [
    "## Парсер и анализатор чатов WhatsApp\n",
    "### Данные предоставляются через экспорт чата в меню приложения.\n",
    "Анализирует чат и показвает зависимости.\n",
    "В дальнейшем возможно добавлю модель с NLP и что-нибудь с цепями Маркова, чтобы посмеяться.\n",
    "Анализирует текст на наличие матерных слов и считает статистику использования мата. Что характерно, по причине того, что поиск идёт по корневым словам, то даже в самых невинных чатах можно найти мат (типа застраХУЙ или МАНДАрин).\n",
    "Датасет можно получить из приложения в меню чата:\n",
    "\n",
    "1. Три точечки в верхнем-правом углу окна чата (группы)\n",
    "![](images/1.png)\n",
    "\n",
    "2. Раздел \"Ещё\"\n",
    "![](images/2.png)\n",
    "\n",
    "3. Выбрать \"Экспорт чата\"\n",
    "![](images/3.png)\n",
    "\n",
    "4. Экспортировать чат БЕЗ ФАЙЛОВ. Нам не нужны картинки с котятами и фотографии майонеза.\n",
    "![](images/4.png)\n",
    "\n",
    "Файл чата должен лежать в папке dataset.\n",
    "Файл swears.txt - словарь матерных слов, можно добавить свои варианты."
   ]
  },
  {
   "cell_type": "code",
   "execution_count": 1,
   "metadata": {},
   "outputs": [],
   "source": [
    "%matplotlib inline\n",
    "\n",
    "import matplotlib.pyplot as plt\n",
    "from datetime import datetime as dt\n",
    "import numpy as np\n",
    "import pandas as pd\n",
    "import re\n",
    "import glob\n",
    "from IPython.display import display, HTML\n",
    "\n",
    "### opening swears dictionary and log dataset\n",
    "swears = open('dataset/swears.txt', 'r', encoding=\"utf-8\")\n",
    "swears = swears.read()\n",
    "swears = swears.split('\\n')\n",
    "\n",
    "f = open(glob.glob('dataset/*WhatsApp*.txt')[0], 'r', encoding=\"utf-8\")\n",
    "f = f.read()\n",
    "f = f.replace('\\n', ' ')\n",
    "\n",
    "### initializing global variables\n",
    "swears_dict = {}\n",
    "words_dict = {}\n",
    "plt.style.use('ggplot')\n"
   ]
  },
  {
   "cell_type": "markdown",
   "metadata": {},
   "source": [
    "Задаём несколько функций, который помогут в дальнейшем.   \n",
    "Счётчик слов   \n",
    "Счётчик только матерных слов   \n",
    "Сборщик библиотеки мата   \n",
    "Сборщик общего словарного запаса   "
   ]
  },
  {
   "cell_type": "code",
   "execution_count": 2,
   "metadata": {},
   "outputs": [],
   "source": [
    "def words_count(string):\n",
    "\t### function returns the number of words in string\n",
    "\tif (string[0] != '<' and string[-1] != '>'):\n",
    "\t\treturn len(string.split())\n",
    "\n",
    "def swear_count(string):\n",
    "\t### function returns the number of swear words found in input string\n",
    "\tstring = string.lower()\n",
    "\tcount = 0\n",
    "\tfor word in swears:\n",
    "\t\tcount += string.count(word)\t\t\n",
    "\treturn count\n",
    "\n",
    "def swears_collect(string):\n",
    "\t### function for adding swear words to global swear_dict dictionary from input string\n",
    "\tstring = string.lower().split()\n",
    "\tfor word in string:\n",
    "\t\tfor swear in swears:\n",
    "\t\t\tif swear in word:\n",
    "\t\t\t\tif word in swears_dict:\n",
    "\t\t\t\t\tswears_dict[word] += 1\n",
    "\t\t\t\telse:\n",
    "\t\t\t\t\tswears_dict[word] = 1\n",
    "\t\n",
    "def to_dict(string):\n",
    "\t### fucntion for adding all words from input string to global words_dict dictionary\n",
    "\tstring = string.lower()\n",
    "\tif (string[0] != '<' and string[-1] != '>'):\n",
    "\t\tstring = string.split()\n",
    "\t\tfor word in string:\t\n",
    "\t\t\tif (word in words_dict and len(word) > 3):\n",
    "\t\t\t\twords_dict[word] += 1\n",
    "\t\t\telse:\n",
    "\t\t\t\twords_dict[word] = 1"
   ]
  },
  {
   "cell_type": "markdown",
   "metadata": {},
   "source": [
    "Прогоняем наш файл с чатом через парсер. Регулярным выражением выуживаем паттерны сообщений со структурой даты/автора/текста.\n",
    "Пропускаем сервисные сообщения.\n",
    "Печатем первые 5 строк датасета."
   ]
  },
  {
   "cell_type": "code",
   "execution_count": 3,
   "metadata": {},
   "outputs": [
    {
     "data": {
      "text/html": [
       "<div>\n",
       "<style scoped>\n",
       "    .dataframe tbody tr th:only-of-type {\n",
       "        vertical-align: middle;\n",
       "    }\n",
       "\n",
       "    .dataframe tbody tr th {\n",
       "        vertical-align: top;\n",
       "    }\n",
       "\n",
       "    .dataframe thead th {\n",
       "        text-align: right;\n",
       "    }\n",
       "</style>\n",
       "<table border=\"1\" class=\"dataframe\">\n",
       "  <thead>\n",
       "    <tr style=\"text-align: right;\">\n",
       "      <th></th>\n",
       "      <th>author</th>\n",
       "      <th>text</th>\n",
       "    </tr>\n",
       "    <tr>\n",
       "      <th>timestamp</th>\n",
       "      <th></th>\n",
       "      <th></th>\n",
       "    </tr>\n",
       "  </thead>\n",
       "  <tbody>\n",
       "    <tr>\n",
       "      <td>2017-09-05 14:30:00</td>\n",
       "      <td>Армен</td>\n",
       "      <td>👍🏻....красавчик!....первый додумался)</td>\n",
       "    </tr>\n",
       "    <tr>\n",
       "      <td>2017-09-05 14:31:00</td>\n",
       "      <td>Николай Скопцов</td>\n",
       "      <td>Была группа</td>\n",
       "    </tr>\n",
       "    <tr>\n",
       "      <td>2017-09-05 14:31:00</td>\n",
       "      <td>Николай Скопцов</td>\n",
       "      <td>Но ее засрали</td>\n",
       "    </tr>\n",
       "    <tr>\n",
       "      <td>2017-09-05 14:31:00</td>\n",
       "      <td>Николай Скопцов</td>\n",
       "      <td>Сюда ток рабочие моменты</td>\n",
       "    </tr>\n",
       "    <tr>\n",
       "      <td>2017-09-05 14:41:00</td>\n",
       "      <td>Николай Скопцов</td>\n",
       "      <td>И кстати, что с мазином?</td>\n",
       "    </tr>\n",
       "  </tbody>\n",
       "</table>\n",
       "</div>"
      ],
      "text/plain": [
       "                              author                                   text\n",
       "timestamp                                                                  \n",
       "2017-09-05 14:30:00            Армен  👍🏻....красавчик!....первый додумался)\n",
       "2017-09-05 14:31:00  Николай Скопцов                            Была группа\n",
       "2017-09-05 14:31:00  Николай Скопцов                          Но ее засрали\n",
       "2017-09-05 14:31:00  Николай Скопцов               Сюда ток рабочие моменты\n",
       "2017-09-05 14:41:00  Николай Скопцов               И кстати, что с мазином?"
      ]
     },
     "metadata": {},
     "output_type": "display_data"
    }
   ],
   "source": [
    "##### Parcing the raw dataset, cleaning it.\n",
    "pattern = re.compile(r'(?P<timestamp>\\d\\d.\\d\\d.\\d\\d\\d\\d, \\d\\d:\\d\\d) - (?!\\u200e)(?P<author>.*?): (?P<text>.*?)(?=( \\d\\d.\\d\\d.\\d\\d\\d\\d, \\d\\d:\\d\\d| $))')\n",
    "match = re.findall(pattern, f)\n",
    "\n",
    "df = pd.DataFrame.from_dict(match)\n",
    "df = df.iloc[1:, 0:3]\n",
    "df.columns=['timestamp', 'author', 'text']\n",
    "df['timestamp'] = pd.to_datetime(df['timestamp'], format='%d.%m.%Y, %H:%M')\n",
    "df.set_index('timestamp', inplace=True)\n",
    "\n",
    "display(df.head())"
   ]
  },
  {
   "cell_type": "markdown",
   "metadata": {},
   "source": [
    "Добавляем вспомогательные колонки.   \n",
    "swears_num - количество матерных слов в сообщении   \n",
    "words_num - количество слов в сообщении   \n",
    "media - тип сообщения (медиа или текст)   \n",
    "hour - час в течении которого было оставлено сообщение"
   ]
  },
  {
   "cell_type": "code",
   "execution_count": 4,
   "metadata": {},
   "outputs": [],
   "source": [
    "#### ADDING COLUMNS\n",
    "\n",
    "### adding column with swears number in each message\n",
    "df['swears_num'] = df['text'].map(swear_count)\n",
    "# df.sort_values('swears_num', inplace=True)\n",
    "\n",
    "### adding column with all words in message number\n",
    "df['words_num'] = df['text'].map(words_count)\n",
    "\n",
    "### adding column with boolean whether the message is just a meme or video\n",
    "df['media'] = df['text'].map(lambda x: 'Media' if (x[0] == '<' and x[-1] == '>') else 'Text')\n",
    "\n",
    "### adding 'hour' column for further grouping\n",
    "df['hour'] = df.index.hour"
   ]
  },
  {
   "cell_type": "markdown",
   "metadata": {},
   "source": [
    "Общее число сообщений:"
   ]
  },
  {
   "cell_type": "code",
   "execution_count": 5,
   "metadata": {},
   "outputs": [
    {
     "name": "stdout",
     "output_type": "stream",
     "text": [
      "Общее число сообщений: 7212\n"
     ]
    }
   ],
   "source": [
    "### printing the number of messages\n",
    "print('Общее число сообщений: {}'.format(df.shape[0]))"
   ]
  },
  {
   "cell_type": "markdown",
   "metadata": {},
   "source": [
    "Количество и список участников (тут везде \"авторов\") чата:"
   ]
  },
  {
   "cell_type": "code",
   "execution_count": 6,
   "metadata": {},
   "outputs": [
    {
     "name": "stdout",
     "output_type": "stream",
     "text": [
      "В чате (группе) 4 автора(ов): \n",
      "['Армен', 'Николай Скопцов', 'Anton Petkov', 'Денис Титов']\n"
     ]
    }
   ],
   "source": [
    "### building the list of authors, printing it\n",
    "authors = df['author'].unique().tolist()\n",
    "authors_num = len(authors)\n",
    "print('В чате (группе) {} автора(ов): \\n{}'.format(authors_num, authors))"
   ]
  },
  {
   "cell_type": "markdown",
   "metadata": {},
   "source": [
    "Дата самого первого сообщения (создание чата), последнего сообщения, возраст чата:"
   ]
  },
  {
   "cell_type": "code",
   "execution_count": 7,
   "metadata": {},
   "outputs": [
    {
     "name": "stdout",
     "output_type": "stream",
     "text": [
      "Дата первого сообщения: 2017-09-05 14:30:00\n",
      "Дата последнего сообщения: 2019-10-07 21:14:00\n",
      "Возраст чата в днях: 762\n",
      "Возраст чата в годах: 2.09\n"
     ]
    }
   ],
   "source": [
    "### printing first message, last message, chat age\n",
    "print('Дата первого сообщения: {}'.format(min(df.index)))\n",
    "print('Дата последнего сообщения: {}'.format(max(df.index)))\n",
    "days = int((max(df.index) - min(df.index)).days)\n",
    "print('Возраст чата в днях: {}\\nВозраст чата в годах: {:.2f}'.format(days, days / 365))\n",
    "avg_msg_hour = df.groupby('hour').count()['text'] / days"
   ]
  },
  {
   "cell_type": "markdown",
   "metadata": {},
   "source": [
    "Составляем словари слов и матерных слов:"
   ]
  },
  {
   "cell_type": "code",
   "execution_count": 8,
   "metadata": {},
   "outputs": [],
   "source": [
    "### buildig a dict (words_dict) with words from chat (text column). Not adding a column, but collecting data\n",
    "df['text'].map(to_dict)\n",
    "words_dict = sorted(words_dict.items(), key=lambda x: x[1], reverse=True)\n",
    "\n",
    "### building a dict of swears usage (swears_dict) from words_dict. Not adding a column, but collecting data\n",
    "df['text'].map(swears_collect)\n",
    "swears_dict = sorted(swears_dict.items(), key=lambda x: x[1], reverse=True)"
   ]
  },
  {
   "cell_type": "markdown",
   "metadata": {},
   "source": [
    "Плодим ещё один с количеством сообщений в неделю за весь период чата:"
   ]
  },
  {
   "cell_type": "code",
   "execution_count": 9,
   "metadata": {},
   "outputs": [],
   "source": [
    "### calculating weekly messages number for alltime\n",
    "msg_weekly = df.resample('W').count()['text']"
   ]
  },
  {
   "cell_type": "markdown",
   "metadata": {},
   "source": [
    "Рассчитываем процент мата у каждого участника чата:\n",
    "Первый фрейм со столбцами \"Общее кол-во слов\" - \"Из них мата\"\n",
    "Второй топ по процентным соотношениям, самые матершинники вверху."
   ]
  },
  {
   "cell_type": "code",
   "execution_count": 10,
   "metadata": {},
   "outputs": [
    {
     "data": {
      "text/html": [
       "<div>\n",
       "<style scoped>\n",
       "    .dataframe tbody tr th:only-of-type {\n",
       "        vertical-align: middle;\n",
       "    }\n",
       "\n",
       "    .dataframe tbody tr th {\n",
       "        vertical-align: top;\n",
       "    }\n",
       "\n",
       "    .dataframe thead th {\n",
       "        text-align: right;\n",
       "    }\n",
       "</style>\n",
       "<table border=\"1\" class=\"dataframe\">\n",
       "  <thead>\n",
       "    <tr style=\"text-align: right;\">\n",
       "      <th></th>\n",
       "      <th>words_num</th>\n",
       "      <th>swears_num</th>\n",
       "    </tr>\n",
       "    <tr>\n",
       "      <th>author</th>\n",
       "      <th></th>\n",
       "      <th></th>\n",
       "    </tr>\n",
       "  </thead>\n",
       "  <tbody>\n",
       "    <tr>\n",
       "      <td>Anton Petkov</td>\n",
       "      <td>3689.0</td>\n",
       "      <td>58</td>\n",
       "    </tr>\n",
       "    <tr>\n",
       "      <td>Армен</td>\n",
       "      <td>36129.0</td>\n",
       "      <td>225</td>\n",
       "    </tr>\n",
       "    <tr>\n",
       "      <td>Денис Титов</td>\n",
       "      <td>7976.0</td>\n",
       "      <td>73</td>\n",
       "    </tr>\n",
       "    <tr>\n",
       "      <td>Николай Скопцов</td>\n",
       "      <td>8401.0</td>\n",
       "      <td>84</td>\n",
       "    </tr>\n",
       "  </tbody>\n",
       "</table>\n",
       "</div>"
      ],
      "text/plain": [
       "                 words_num  swears_num\n",
       "author                                \n",
       "Anton Petkov        3689.0          58\n",
       "Армен              36129.0         225\n",
       "Денис Титов         7976.0          73\n",
       "Николай Скопцов     8401.0          84"
      ]
     },
     "metadata": {},
     "output_type": "display_data"
    },
    {
     "name": "stdout",
     "output_type": "stream",
     "text": [
      "\n",
      "Слова и матерные слова в процентах для каждого автора:\n",
      "author\n",
      "Anton Petkov       1.572242\n",
      "Николай Скопцов    0.999881\n",
      "Денис Титов        0.915246\n",
      "Армен              0.622768\n",
      "Name: percent, dtype: float64\n"
     ]
    }
   ],
   "source": [
    "### calculating swear words usage for each author\n",
    "words_swears_users = df.groupby('author').sum()[['words_num', 'swears_num']]\n",
    "display(words_swears_users.head())\n",
    "words_swears_users['percent'] = (words_swears_users['swears_num'] / words_swears_users['words_num']) * 100\n",
    "words_swears_users = words_swears_users.sort_values(by='percent', ascending=False)\n",
    "print('\\nСлова и матерные слова в процентах для каждого автора:')\n",
    "print(words_swears_users['percent'].head())"
   ]
  },
  {
   "cell_type": "markdown",
   "metadata": {},
   "source": [
    "Рассчёт матрицы корреляций Пирсона для каждого участника автора, с дальнейшей сортировкой наивысших коэффициентов наверх:\n",
    "В данном случае коэффициент - по сути вероятность того, что участники общаются между собой, чем с другими участниками."
   ]
  },
  {
   "cell_type": "code",
   "execution_count": 11,
   "metadata": {},
   "outputs": [
    {
     "name": "stdout",
     "output_type": "stream",
     "text": [
      "\n",
      "\n",
      "Топ авторов в корреляциями во времени сообщений:\n"
     ]
    },
    {
     "data": {
      "text/plain": [
       "author           author      \n",
       "Денис Титов      Anton Petkov    0.880038\n",
       "Николай Скопцов  Денис Титов     0.876620\n",
       "                 Anton Petkov    0.830202\n",
       "Армен            Anton Petkov    0.689029\n",
       "Николай Скопцов  Армен           0.596165\n",
       "dtype: float64"
      ]
     },
     "metadata": {},
     "output_type": "display_data"
    }
   ],
   "source": [
    "### calculating the pearsons correlation matrix for each pair of authors, fetching the best of them\n",
    "corr_matrix = df.groupby(['hour', 'author']).count()['text']\n",
    "print('\\n')\n",
    "corr_matrix = corr_matrix.unstack(level=-1, fill_value=0)\n",
    "corr_matrix = corr_matrix.corr()\n",
    "corr_matrix.replace(to_replace=1, value=0, inplace=True)\n",
    "corr_matrix = corr_matrix.stack().sort_values(ascending=False).drop_duplicates()\n",
    "print('Топ авторов в корреляциями во времени сообщений:')\n",
    "display(corr_matrix.head())"
   ]
  },
  {
   "cell_type": "markdown",
   "metadata": {},
   "source": [
    "Время рисунков!\n",
    "Первый график - общее количество сообщений у каждого участника.\n",
    "При большом количестве участников (больше 10) - выводит только первые 10, предварительно отсортировав самых активных наверх. А то получится неразборчивая каша."
   ]
  },
  {
   "cell_type": "code",
   "execution_count": 12,
   "metadata": {
    "scrolled": true
   },
   "outputs": [
    {
     "data": {
      "image/png": "[encoded data removed]",
      "text/plain": [
       "<Figure size 432x288 with 1 Axes>"
      ]
     },
     "metadata": {
      "needs_background": "light"
     },
     "output_type": "display_data"
    }
   ],
   "source": [
    "##### PLOTTING PART\n",
    "### plots media/text percentage\n",
    "\n",
    "### calculating and plotting overall authors messages number\n",
    "authors_count = df.groupby(['author']).count()['text']\n",
    "authors_count = authors_count.sort_values(ascending=False)\n",
    "if authors_num > 10:\n",
    "\ttitle = 'Топ 10 авторов сообщений по количеству'\n",
    "\tauthors_count = authors_count.iloc[:10]\n",
    "else:\n",
    "\ttitle = 'Авторы сообщений по количеству'\n",
    "ax = authors_count.plot(kind='bar', title=title, alpha=0.75)\n",
    "ax.set_ylabel('Кол-во сообщений')\n",
    "ax.set_xlabel('Авторы')\n",
    "for i in ax.patches:\n",
    "\tax.text(i.get_x(), i.get_height(), str(int(i.get_height())))\n",
    "plt.setp(ax.get_xticklabels(), rotation=30, horizontalalignment='right') # rotating long xticks and make them confy to read\n",
    "plt.tight_layout()\n",
    "plt.show()"
   ]
  },
  {
   "cell_type": "markdown",
   "metadata": {},
   "source": [
    "График (а еще и топ-5) публикации текстовых сообщений/медиа участниками. Видны предпочтения авторов, кто любит писать, а кто картинки слать."
   ]
  },
  {
   "cell_type": "code",
   "execution_count": 13,
   "metadata": {},
   "outputs": [
    {
     "data": {
      "text/html": [
       "<div>\n",
       "<style scoped>\n",
       "    .dataframe tbody tr th:only-of-type {\n",
       "        vertical-align: middle;\n",
       "    }\n",
       "\n",
       "    .dataframe tbody tr th {\n",
       "        vertical-align: top;\n",
       "    }\n",
       "\n",
       "    .dataframe thead th {\n",
       "        text-align: right;\n",
       "    }\n",
       "</style>\n",
       "<table border=\"1\" class=\"dataframe\">\n",
       "  <thead>\n",
       "    <tr style=\"text-align: right;\">\n",
       "      <th>media</th>\n",
       "      <th>Media</th>\n",
       "      <th>Text</th>\n",
       "    </tr>\n",
       "    <tr>\n",
       "      <th>author</th>\n",
       "      <th></th>\n",
       "      <th></th>\n",
       "    </tr>\n",
       "  </thead>\n",
       "  <tbody>\n",
       "    <tr>\n",
       "      <td>Николай Скопцов</td>\n",
       "      <td>273</td>\n",
       "      <td>1624</td>\n",
       "    </tr>\n",
       "    <tr>\n",
       "      <td>Армен</td>\n",
       "      <td>1798</td>\n",
       "      <td>1165</td>\n",
       "    </tr>\n",
       "    <tr>\n",
       "      <td>Денис Титов</td>\n",
       "      <td>450</td>\n",
       "      <td>962</td>\n",
       "    </tr>\n",
       "    <tr>\n",
       "      <td>Anton Petkov</td>\n",
       "      <td>468</td>\n",
       "      <td>472</td>\n",
       "    </tr>\n",
       "  </tbody>\n",
       "</table>\n",
       "</div>"
      ],
      "text/plain": [
       "media            Media  Text\n",
       "author                      \n",
       "Николай Скопцов    273  1624\n",
       "Армен             1798  1165\n",
       "Денис Титов        450   962\n",
       "Anton Petkov       468   472"
      ]
     },
     "metadata": {},
     "output_type": "display_data"
    },
    {
     "data": {
      "image/png": "[encoded data removed]",
      "text/plain": [
       "<Figure size 432x288 with 1 Axes>"
      ]
     },
     "metadata": {
      "needs_background": "light"
     },
     "output_type": "display_data"
    }
   ],
   "source": [
    "### calculating media/text ratio per author and plotting it\n",
    "medias_per_capita = df.groupby(['author', 'media']).count()['text']\n",
    "medias_per_capita = medias_per_capita.unstack(level=1)\n",
    "medias_per_capita = medias_per_capita.sort_values(by='Text', ascending=False)\n",
    "if authors_num > 10:\n",
    "\tmedias_per_capita = medias_per_capita.iloc[:10, :]\n",
    "\ttitle = 'Топ 10 медиа / текст на автора'\n",
    "else:\n",
    "\ttitle = 'Текст / медиа на ватора'\n",
    "\n",
    "display(medias_per_capita.head())\n",
    "\n",
    "ax = medias_per_capita.plot(kind='bar', title=title, alpha=0.75)\n",
    "ax.set_ylabel('Кол-во сообщений')\n",
    "ax.set_xlabel('Авторы')\n",
    "for i in ax.patches:\n",
    "\tax.text(i.get_x(), i.get_height(), str(int(i.get_height())))\n",
    "plt.setp(ax.get_xticklabels(), rotation=30, horizontalalignment='right') # rotating long xticks and make them confy to read\n",
    "plt.tight_layout()\n",
    "plt.show()"
   ]
  },
  {
   "cell_type": "markdown",
   "metadata": {},
   "source": [
    "График общей активности чата за всю историю:\n",
    "новая года сразу видна)))"
   ]
  },
  {
   "cell_type": "code",
   "execution_count": 14,
   "metadata": {},
   "outputs": [
    {
     "data": {
      "image/png": "[encoded data removed]",
      "text/plain": [
       "<Figure size 432x288 with 1 Axes>"
      ]
     },
     "metadata": {
      "needs_background": "light"
     },
     "output_type": "display_data"
    }
   ],
   "source": [
    "### plotting overall messages history\n",
    "msg_weekly.plot(kind='line', title='Хронология сообщений', alpha=0.75)\n",
    "plt.xlabel('Дата')\n",
    "plt.ylabel('Кол-во сообщений')\n",
    "plt.xticks(rotation=0)\n",
    "plt.tight_layout()\n",
    "plt.show()"
   ]
  },
  {
   "cell_type": "markdown",
   "metadata": {},
   "source": [
    "График использования картинок/мемасов/котят/еды вместо текста:"
   ]
  },
  {
   "cell_type": "code",
   "execution_count": 15,
   "metadata": {},
   "outputs": [
    {
     "name": "stdout",
     "output_type": "stream",
     "text": [
      "media\n",
      "Media    2989\n",
      "Text     4223\n",
      "Name: text, dtype: int64\n"
     ]
    },
    {
     "data": {
      "image/png": "[encoded data removed]",
      "text/plain": [
       "<Figure size 432x288 with 1 Axes>"
      ]
     },
     "metadata": {
      "needs_background": "light"
     },
     "output_type": "display_data"
    }
   ],
   "source": [
    "medias = df.groupby(['media']).count()['text']\n",
    "print(medias)\n",
    "medias.plot(kind='bar', title='Соотношение картинки/виде/прочее и текст', width=0.20)\n",
    "plt.xlabel('Дата')\n",
    "plt.ylabel('Кол-во сообщений')\n",
    "plt.xticks(rotation=0)\n",
    "plt.tight_layout()\n",
    "plt.show()"
   ]
  },
  {
   "cell_type": "markdown",
   "metadata": {},
   "source": [
    "График среднего количества сообщений в определённый час суток:\n",
    "Задавать свои вопросы с вероятностью быстро получить ответ лучше именно в пиковые его значения."
   ]
  },
  {
   "cell_type": "code",
   "execution_count": 16,
   "metadata": {},
   "outputs": [
    {
     "data": {
      "image/png": "[encoded data removed]",
      "text/plain": [
       "<Figure size 432x288 with 1 Axes>"
      ]
     },
     "metadata": {
      "needs_background": "light"
     },
     "output_type": "display_data"
    }
   ],
   "source": [
    "avg_msg_hour.plot(kind='bar', title='Среднее количество сообщений в определенный час', alpha=0.75, )\n",
    "plt.xlabel('Час')\n",
    "plt.ylabel('Кол-во сообщений')\n",
    "plt.xticks(rotation=0)\n",
    "plt.tight_layout()\n",
    "plt.show()"
   ]
  },
  {
   "cell_type": "markdown",
   "metadata": {},
   "source": [
    "Топ 20 слов используемых в чате: Ограничил размер от 3 символов, ибо предлоги всегда в топе использования в человеческой речи.\n",
    "И топ 20 матерных слов в чате:\n",
    "В списке (слово, его количество)"
   ]
  },
  {
   "cell_type": "code",
   "execution_count": 17,
   "metadata": {},
   "outputs": [
    {
     "name": "stdout",
     "output_type": "stream",
     "text": [
      "Топ 20 слов используемых в чате, длинее 3 букв:\n"
     ]
    },
    {
     "data": {
      "text/html": [
       "<div>\n",
       "<style scoped>\n",
       "    .dataframe tbody tr th:only-of-type {\n",
       "        vertical-align: middle;\n",
       "    }\n",
       "\n",
       "    .dataframe tbody tr th {\n",
       "        vertical-align: top;\n",
       "    }\n",
       "\n",
       "    .dataframe thead th {\n",
       "        text-align: right;\n",
       "    }\n",
       "</style>\n",
       "<table border=\"1\" class=\"dataframe\">\n",
       "  <thead>\n",
       "    <tr style=\"text-align: right;\">\n",
       "      <th></th>\n",
       "      <th>0</th>\n",
       "      <th>1</th>\n",
       "    </tr>\n",
       "  </thead>\n",
       "  <tbody>\n",
       "    <tr>\n",
       "      <td>0</td>\n",
       "      <td>если</td>\n",
       "      <td>153</td>\n",
       "    </tr>\n",
       "    <tr>\n",
       "      <td>1</td>\n",
       "      <td>меня</td>\n",
       "      <td>138</td>\n",
       "    </tr>\n",
       "    <tr>\n",
       "      <td>2</td>\n",
       "      <td>только</td>\n",
       "      <td>138</td>\n",
       "    </tr>\n",
       "    <tr>\n",
       "      <td>3</td>\n",
       "      <td>когда</td>\n",
       "      <td>108</td>\n",
       "    </tr>\n",
       "    <tr>\n",
       "      <td>4</td>\n",
       "      <td>тебя</td>\n",
       "      <td>91</td>\n",
       "    </tr>\n",
       "    <tr>\n",
       "      <td>5</td>\n",
       "      <td>есть</td>\n",
       "      <td>88</td>\n",
       "    </tr>\n",
       "    <tr>\n",
       "      <td>6</td>\n",
       "      <td>надо</td>\n",
       "      <td>78</td>\n",
       "    </tr>\n",
       "    <tr>\n",
       "      <td>7</td>\n",
       "      <td>тоже</td>\n",
       "      <td>74</td>\n",
       "    </tr>\n",
       "    <tr>\n",
       "      <td>8</td>\n",
       "      <td>тебе</td>\n",
       "      <td>74</td>\n",
       "    </tr>\n",
       "    <tr>\n",
       "      <td>9</td>\n",
       "      <td>будет</td>\n",
       "      <td>73</td>\n",
       "    </tr>\n",
       "    <tr>\n",
       "      <td>10</td>\n",
       "      <td>чтобы</td>\n",
       "      <td>72</td>\n",
       "    </tr>\n",
       "    <tr>\n",
       "      <td>11</td>\n",
       "      <td>было</td>\n",
       "      <td>70</td>\n",
       "    </tr>\n",
       "    <tr>\n",
       "      <td>12</td>\n",
       "      <td>после</td>\n",
       "      <td>69</td>\n",
       "    </tr>\n",
       "    <tr>\n",
       "      <td>13</td>\n",
       "      <td>очень</td>\n",
       "      <td>65</td>\n",
       "    </tr>\n",
       "    <tr>\n",
       "      <td>14</td>\n",
       "      <td>сегодня</td>\n",
       "      <td>63</td>\n",
       "    </tr>\n",
       "    <tr>\n",
       "      <td>15</td>\n",
       "      <td>нет,</td>\n",
       "      <td>59</td>\n",
       "    </tr>\n",
       "    <tr>\n",
       "      <td>16</td>\n",
       "      <td>даже</td>\n",
       "      <td>56</td>\n",
       "    </tr>\n",
       "    <tr>\n",
       "      <td>17</td>\n",
       "      <td>теперь</td>\n",
       "      <td>56</td>\n",
       "    </tr>\n",
       "    <tr>\n",
       "      <td>18</td>\n",
       "      <td>пока</td>\n",
       "      <td>55</td>\n",
       "    </tr>\n",
       "    <tr>\n",
       "      <td>19</td>\n",
       "      <td>потом</td>\n",
       "      <td>54</td>\n",
       "    </tr>\n",
       "  </tbody>\n",
       "</table>\n",
       "</div>"
      ],
      "text/plain": [
       "          0    1\n",
       "0      если  153\n",
       "1      меня  138\n",
       "2    только  138\n",
       "3     когда  108\n",
       "4      тебя   91\n",
       "5      есть   88\n",
       "6      надо   78\n",
       "7      тоже   74\n",
       "8      тебе   74\n",
       "9     будет   73\n",
       "10    чтобы   72\n",
       "11     было   70\n",
       "12    после   69\n",
       "13    очень   65\n",
       "14  сегодня   63\n",
       "15     нет,   59\n",
       "16     даже   56\n",
       "17   теперь   56\n",
       "18     пока   55\n",
       "19    потом   54"
      ]
     },
     "metadata": {},
     "output_type": "display_data"
    },
    {
     "name": "stdout",
     "output_type": "stream",
     "text": [
      "\n",
      "\n",
      "Топ 20 матерных слов: \n",
      "\n"
     ]
    },
    {
     "data": {
      "text/html": [
       "<div>\n",
       "<style scoped>\n",
       "    .dataframe tbody tr th:only-of-type {\n",
       "        vertical-align: middle;\n",
       "    }\n",
       "\n",
       "    .dataframe tbody tr th {\n",
       "        vertical-align: top;\n",
       "    }\n",
       "\n",
       "    .dataframe thead th {\n",
       "        text-align: right;\n",
       "    }\n",
       "</style>\n",
       "<table border=\"1\" class=\"dataframe\">\n",
       "  <thead>\n",
       "    <tr style=\"text-align: right;\">\n",
       "      <th></th>\n",
       "      <th>0</th>\n",
       "      <th>1</th>\n",
       "    </tr>\n",
       "  </thead>\n",
       "  <tbody>\n",
       "    <tr>\n",
       "      <td>0</td>\n",
       "      <td>хуй</td>\n",
       "      <td>31</td>\n",
       "    </tr>\n",
       "    <tr>\n",
       "      <td>1</td>\n",
       "      <td>пиздец</td>\n",
       "      <td>28</td>\n",
       "    </tr>\n",
       "    <tr>\n",
       "      <td>2</td>\n",
       "      <td>нахуй</td>\n",
       "      <td>25</td>\n",
       "    </tr>\n",
       "    <tr>\n",
       "      <td>3</td>\n",
       "      <td>похуй</td>\n",
       "      <td>10</td>\n",
       "    </tr>\n",
       "    <tr>\n",
       "      <td>4</td>\n",
       "      <td>хуйня</td>\n",
       "      <td>6</td>\n",
       "    </tr>\n",
       "    <tr>\n",
       "      <td>5</td>\n",
       "      <td>говно</td>\n",
       "      <td>6</td>\n",
       "    </tr>\n",
       "    <tr>\n",
       "      <td>6</td>\n",
       "      <td>нехуй</td>\n",
       "      <td>6</td>\n",
       "    </tr>\n",
       "    <tr>\n",
       "      <td>7</td>\n",
       "      <td>нахуй,</td>\n",
       "      <td>6</td>\n",
       "    </tr>\n",
       "    <tr>\n",
       "      <td>8</td>\n",
       "      <td>«пиздец»</td>\n",
       "      <td>5</td>\n",
       "    </tr>\n",
       "    <tr>\n",
       "      <td>9</td>\n",
       "      <td>говно.</td>\n",
       "      <td>5</td>\n",
       "    </tr>\n",
       "    <tr>\n",
       "      <td>10</td>\n",
       "      <td>пизды»</td>\n",
       "      <td>4</td>\n",
       "    </tr>\n",
       "    <tr>\n",
       "      <td>11</td>\n",
       "      <td>пизду»</td>\n",
       "      <td>4</td>\n",
       "    </tr>\n",
       "    <tr>\n",
       "      <td>12</td>\n",
       "      <td>пиздец.</td>\n",
       "      <td>4</td>\n",
       "    </tr>\n",
       "    <tr>\n",
       "      <td>13</td>\n",
       "      <td>ахуеть</td>\n",
       "      <td>3</td>\n",
       "    </tr>\n",
       "    <tr>\n",
       "      <td>14</td>\n",
       "      <td>пизду</td>\n",
       "      <td>3</td>\n",
       "    </tr>\n",
       "    <tr>\n",
       "      <td>15</td>\n",
       "      <td>говна</td>\n",
       "      <td>3</td>\n",
       "    </tr>\n",
       "    <tr>\n",
       "      <td>16</td>\n",
       "      <td>пиздит</td>\n",
       "      <td>3</td>\n",
       "    </tr>\n",
       "    <tr>\n",
       "      <td>17</td>\n",
       "      <td>команда:</td>\n",
       "      <td>3</td>\n",
       "    </tr>\n",
       "    <tr>\n",
       "      <td>18</td>\n",
       "      <td>пизда</td>\n",
       "      <td>3</td>\n",
       "    </tr>\n",
       "    <tr>\n",
       "      <td>19</td>\n",
       "      <td>говне,</td>\n",
       "      <td>3</td>\n",
       "    </tr>\n",
       "  </tbody>\n",
       "</table>\n",
       "</div>"
      ],
      "text/plain": [
       "           0   1\n",
       "0        хуй  31\n",
       "1     пиздец  28\n",
       "2      нахуй  25\n",
       "3      похуй  10\n",
       "4      хуйня   6\n",
       "5      говно   6\n",
       "6      нехуй   6\n",
       "7     нахуй,   6\n",
       "8   «пиздец»   5\n",
       "9     говно.   5\n",
       "10    пизды»   4\n",
       "11    пизду»   4\n",
       "12   пиздец.   4\n",
       "13    ахуеть   3\n",
       "14     пизду   3\n",
       "15     говна   3\n",
       "16    пиздит   3\n",
       "17  команда:   3\n",
       "18     пизда   3\n",
       "19    говне,   3"
      ]
     },
     "metadata": {},
     "output_type": "display_data"
    },
    {
     "name": "stdout",
     "output_type": "stream",
     "text": [
      "\n",
      "\n",
      "Общий процент мата в чате:\n",
      "0.783\n"
     ]
    }
   ],
   "source": [
    "print('Топ 20 слов используемых в чате, длинее 3 букв:')\n",
    "display(pd.DataFrame(words_dict[:20]))\n",
    "print('\\n')\n",
    "print('Топ 20 матерных слов: \\n')\n",
    "display(pd.DataFrame(swears_dict[:20]))\n",
    "print('\\n')\n",
    "print('Общий процент мата в чате:')\n",
    "print(round((df['swears_num'].sum() / df['words_num'].sum()) * 100, 4))"
   ]
  }
 ],
 "metadata": {
  "kernelspec": {
   "display_name": "Python 3",
   "language": "python",
   "name": "python3"
  },
  "language_info": {
   "codemirror_mode": {
    "name": "ipython",
    "version": 3
   },
   "file_extension": ".py",
   "mimetype": "text/x-python",
   "name": "python",
   "nbconvert_exporter": "python",
   "pygments_lexer": "ipython3",
   "version": "3.7.4"
  }
 },
 "nbformat": 4,
 "nbformat_minor": 2
}
